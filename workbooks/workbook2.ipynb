{
 "cells": [
  {
   "cell_type": "code",
   "execution_count": 1,
   "id": "c180d56a",
   "metadata": {},
   "outputs": [
    {
     "name": "stdout",
     "output_type": "stream",
     "text": [
      "Skill Detector\n",
      "Preporocessing The Skills Dataset\n"
     ]
    }
   ],
   "source": [
    "print(\"Skill Detector\")\n",
    "print(\"Preporocessing The Skills Dataset\")"
   ]
  },
  {
   "cell_type": "code",
   "execution_count": 2,
   "id": "30979c23",
   "metadata": {},
   "outputs": [
    {
     "name": "stdout",
     "output_type": "stream",
     "text": [
      "Requirement already satisfied: ydata_profiling in c:\\users\\moham\\anaconda3\\lib\\site-packages (4.16.1)\n",
      "Requirement already satisfied: scipy<1.16,>=1.4.1 in c:\\users\\moham\\anaconda3\\lib\\site-packages (from ydata_profiling) (1.15.2)\n",
      "Requirement already satisfied: pandas!=1.4.0,<3.0,>1.1 in c:\\users\\moham\\anaconda3\\lib\\site-packages (from ydata_profiling) (2.2.3)\n",
      "Requirement already satisfied: matplotlib<=3.10,>=3.5 in c:\\users\\moham\\anaconda3\\lib\\site-packages (from ydata_profiling) (3.10.0)\n",
      "Requirement already satisfied: pydantic>=2 in c:\\users\\moham\\anaconda3\\lib\\site-packages (from ydata_profiling) (2.11.4)\n",
      "Requirement already satisfied: PyYAML<6.1,>=5.0.0 in c:\\users\\moham\\anaconda3\\lib\\site-packages (from ydata_profiling) (6.0.2)\n",
      "Requirement already satisfied: jinja2<3.2,>=2.11.1 in c:\\users\\moham\\anaconda3\\lib\\site-packages (from ydata_profiling) (3.1.6)\n",
      "Requirement already satisfied: visions<0.8.2,>=0.7.5 in c:\\users\\moham\\anaconda3\\lib\\site-packages (from visions[type_image_path]<0.8.2,>=0.7.5->ydata_profiling) (0.8.1)\n",
      "Collecting numpy<2.2,>=1.16.0 (from ydata_profiling)\n",
      "  Downloading numpy-2.1.3-cp312-cp312-win_amd64.whl.metadata (60 kB)\n",
      "Requirement already satisfied: htmlmin==0.1.12 in c:\\users\\moham\\anaconda3\\lib\\site-packages (from ydata_profiling) (0.1.12)\n",
      "Requirement already satisfied: phik<0.13,>=0.11.1 in c:\\users\\moham\\anaconda3\\lib\\site-packages (from ydata_profiling) (0.12.4)\n",
      "Requirement already satisfied: requests<3,>=2.24.0 in c:\\users\\moham\\anaconda3\\lib\\site-packages (from ydata_profiling) (2.32.3)\n",
      "Requirement already satisfied: tqdm<5,>=4.48.2 in c:\\users\\moham\\anaconda3\\lib\\site-packages (from ydata_profiling) (4.67.1)\n",
      "Requirement already satisfied: seaborn<0.14,>=0.10.1 in c:\\users\\moham\\anaconda3\\lib\\site-packages (from ydata_profiling) (0.13.2)\n",
      "Requirement already satisfied: multimethod<2,>=1.4 in c:\\users\\moham\\anaconda3\\lib\\site-packages (from ydata_profiling) (1.12)\n",
      "Requirement already satisfied: statsmodels<1,>=0.13.2 in c:\\users\\moham\\anaconda3\\lib\\site-packages (from ydata_profiling) (0.14.4)\n",
      "Requirement already satisfied: typeguard<5,>=3 in c:\\users\\moham\\anaconda3\\lib\\site-packages (from ydata_profiling) (4.4.2)\n",
      "Requirement already satisfied: imagehash==4.3.1 in c:\\users\\moham\\anaconda3\\lib\\site-packages (from ydata_profiling) (4.3.1)\n",
      "Requirement already satisfied: wordcloud>=1.9.3 in c:\\users\\moham\\anaconda3\\lib\\site-packages (from ydata_profiling) (1.9.4)\n",
      "Requirement already satisfied: dacite>=1.8 in c:\\users\\moham\\anaconda3\\lib\\site-packages (from ydata_profiling) (1.9.2)\n",
      "Requirement already satisfied: numba<=0.61,>=0.56.0 in c:\\users\\moham\\anaconda3\\lib\\site-packages (from ydata_profiling) (0.61.0)\n",
      "Requirement already satisfied: PyWavelets in c:\\users\\moham\\anaconda3\\lib\\site-packages (from imagehash==4.3.1->ydata_profiling) (1.8.0)\n",
      "Requirement already satisfied: pillow in c:\\users\\moham\\anaconda3\\lib\\site-packages (from imagehash==4.3.1->ydata_profiling) (11.1.0)\n",
      "Requirement already satisfied: MarkupSafe>=2.0 in c:\\users\\moham\\anaconda3\\lib\\site-packages (from jinja2<3.2,>=2.11.1->ydata_profiling) (3.0.2)\n",
      "Requirement already satisfied: contourpy>=1.0.1 in c:\\users\\moham\\anaconda3\\lib\\site-packages (from matplotlib<=3.10,>=3.5->ydata_profiling) (1.3.1)\n",
      "Requirement already satisfied: cycler>=0.10 in c:\\users\\moham\\anaconda3\\lib\\site-packages (from matplotlib<=3.10,>=3.5->ydata_profiling) (0.11.0)\n",
      "Requirement already satisfied: fonttools>=4.22.0 in c:\\users\\moham\\anaconda3\\lib\\site-packages (from matplotlib<=3.10,>=3.5->ydata_profiling) (4.55.3)\n",
      "Requirement already satisfied: kiwisolver>=1.3.1 in c:\\users\\moham\\anaconda3\\lib\\site-packages (from matplotlib<=3.10,>=3.5->ydata_profiling) (1.4.8)\n",
      "Requirement already satisfied: packaging>=20.0 in c:\\users\\moham\\anaconda3\\lib\\site-packages (from matplotlib<=3.10,>=3.5->ydata_profiling) (24.2)\n",
      "Requirement already satisfied: pyparsing>=2.3.1 in c:\\users\\moham\\anaconda3\\lib\\site-packages (from matplotlib<=3.10,>=3.5->ydata_profiling) (3.2.0)\n",
      "Requirement already satisfied: python-dateutil>=2.7 in c:\\users\\moham\\anaconda3\\lib\\site-packages (from matplotlib<=3.10,>=3.5->ydata_profiling) (2.9.0.post0)\n",
      "Requirement already satisfied: llvmlite<0.45,>=0.44.0dev0 in c:\\users\\moham\\anaconda3\\lib\\site-packages (from numba<=0.61,>=0.56.0->ydata_profiling) (0.44.0)\n",
      "Requirement already satisfied: pytz>=2020.1 in c:\\users\\moham\\anaconda3\\lib\\site-packages (from pandas!=1.4.0,<3.0,>1.1->ydata_profiling) (2024.1)\n",
      "Requirement already satisfied: tzdata>=2022.7 in c:\\users\\moham\\anaconda3\\lib\\site-packages (from pandas!=1.4.0,<3.0,>1.1->ydata_profiling) (2025.2)\n",
      "Requirement already satisfied: joblib>=0.14.1 in c:\\users\\moham\\anaconda3\\lib\\site-packages (from phik<0.13,>=0.11.1->ydata_profiling) (1.4.2)\n",
      "Requirement already satisfied: charset-normalizer<4,>=2 in c:\\users\\moham\\anaconda3\\lib\\site-packages (from requests<3,>=2.24.0->ydata_profiling) (3.3.2)\n",
      "Requirement already satisfied: idna<4,>=2.5 in c:\\users\\moham\\anaconda3\\lib\\site-packages (from requests<3,>=2.24.0->ydata_profiling) (3.7)\n",
      "Requirement already satisfied: urllib3<3,>=1.21.1 in c:\\users\\moham\\anaconda3\\lib\\site-packages (from requests<3,>=2.24.0->ydata_profiling) (2.3.0)\n",
      "Requirement already satisfied: certifi>=2017.4.17 in c:\\users\\moham\\anaconda3\\lib\\site-packages (from requests<3,>=2.24.0->ydata_profiling) (2025.4.26)\n",
      "Requirement already satisfied: patsy>=0.5.6 in c:\\users\\moham\\anaconda3\\lib\\site-packages (from statsmodels<1,>=0.13.2->ydata_profiling) (1.0.1)\n",
      "Requirement already satisfied: colorama in c:\\users\\moham\\anaconda3\\lib\\site-packages (from tqdm<5,>=4.48.2->ydata_profiling) (0.4.6)\n",
      "Requirement already satisfied: typing_extensions>=4.10.0 in c:\\users\\moham\\anaconda3\\lib\\site-packages (from typeguard<5,>=3->ydata_profiling) (4.12.2)\n",
      "Requirement already satisfied: attrs>=19.3.0 in c:\\users\\moham\\anaconda3\\lib\\site-packages (from visions<0.8.2,>=0.7.5->visions[type_image_path]<0.8.2,>=0.7.5->ydata_profiling) (24.3.0)\n",
      "Requirement already satisfied: networkx>=2.4 in c:\\users\\moham\\anaconda3\\lib\\site-packages (from visions<0.8.2,>=0.7.5->visions[type_image_path]<0.8.2,>=0.7.5->ydata_profiling) (3.4.2)\n",
      "Requirement already satisfied: puremagic in c:\\users\\moham\\anaconda3\\lib\\site-packages (from visions<0.8.2,>=0.7.5->visions[type_image_path]<0.8.2,>=0.7.5->ydata_profiling) (1.29)\n",
      "Requirement already satisfied: annotated-types>=0.6.0 in c:\\users\\moham\\anaconda3\\lib\\site-packages (from pydantic>=2->ydata_profiling) (0.6.0)\n",
      "Requirement already satisfied: pydantic-core==2.33.2 in c:\\users\\moham\\anaconda3\\lib\\site-packages (from pydantic>=2->ydata_profiling) (2.33.2)\n",
      "Requirement already satisfied: typing-inspection>=0.4.0 in c:\\users\\moham\\anaconda3\\lib\\site-packages (from pydantic>=2->ydata_profiling) (0.4.0)\n",
      "Requirement already satisfied: six>=1.5 in c:\\users\\moham\\anaconda3\\lib\\site-packages (from python-dateutil>=2.7->matplotlib<=3.10,>=3.5->ydata_profiling) (1.17.0)\n",
      "Downloading numpy-2.1.3-cp312-cp312-win_amd64.whl (12.6 MB)\n",
      "   ---------------------------------------- 0.0/12.6 MB ? eta -:--:--\n",
      "   ---------------------------------------- 0.0/12.6 MB ? eta -:--:--\n",
      "    --------------------------------------- 0.3/12.6 MB ? eta -:--:--\n",
      "   -- ------------------------------------- 0.8/12.6 MB 1.5 MB/s eta 0:00:08\n",
      "   --- ------------------------------------ 1.0/12.6 MB 1.6 MB/s eta 0:00:08\n",
      "   ----- ---------------------------------- 1.6/12.6 MB 1.7 MB/s eta 0:00:07\n",
      "   ----- ---------------------------------- 1.8/12.6 MB 1.7 MB/s eta 0:00:07\n",
      "   ------ --------------------------------- 2.1/12.6 MB 1.7 MB/s eta 0:00:07\n",
      "   ------- -------------------------------- 2.4/12.6 MB 1.7 MB/s eta 0:00:07\n",
      "   -------- ------------------------------- 2.6/12.6 MB 1.6 MB/s eta 0:00:07\n",
      "   --------- ------------------------------ 2.9/12.6 MB 1.4 MB/s eta 0:00:07\n",
      "   --------- ------------------------------ 2.9/12.6 MB 1.4 MB/s eta 0:00:07\n",
      "   ---------- ----------------------------- 3.1/12.6 MB 1.3 MB/s eta 0:00:07\n",
      "   ---------- ----------------------------- 3.1/12.6 MB 1.3 MB/s eta 0:00:07\n",
      "   ---------- ----------------------------- 3.4/12.6 MB 1.2 MB/s eta 0:00:08\n",
      "   ---------- ----------------------------- 3.4/12.6 MB 1.2 MB/s eta 0:00:08\n",
      "   ----------- ---------------------------- 3.7/12.6 MB 1.1 MB/s eta 0:00:08\n",
      "   ----------- ---------------------------- 3.7/12.6 MB 1.1 MB/s eta 0:00:08\n",
      "   ------------ --------------------------- 3.9/12.6 MB 1.0 MB/s eta 0:00:09\n",
      "   ------------ --------------------------- 3.9/12.6 MB 1.0 MB/s eta 0:00:09\n",
      "   ------------ --------------------------- 3.9/12.6 MB 1.0 MB/s eta 0:00:09\n",
      "   ------------ --------------------------- 3.9/12.6 MB 1.0 MB/s eta 0:00:09\n",
      "   ------------- -------------------------- 4.2/12.6 MB 928.5 kB/s eta 0:00:10\n",
      "   ------------- -------------------------- 4.2/12.6 MB 928.5 kB/s eta 0:00:10\n",
      "   ------------- -------------------------- 4.2/12.6 MB 928.5 kB/s eta 0:00:10\n",
      "   ------------- -------------------------- 4.2/12.6 MB 928.5 kB/s eta 0:00:10\n",
      "   -------------- ------------------------- 4.5/12.6 MB 820.8 kB/s eta 0:00:10\n",
      "   -------------- ------------------------- 4.5/12.6 MB 820.8 kB/s eta 0:00:10\n",
      "   -------------- ------------------------- 4.5/12.6 MB 820.8 kB/s eta 0:00:10\n",
      "   -------------- ------------------------- 4.5/12.6 MB 820.8 kB/s eta 0:00:10\n",
      "   -------------- ------------------------- 4.5/12.6 MB 820.8 kB/s eta 0:00:10\n",
      "   --------------- ------------------------ 4.7/12.6 MB 725.7 kB/s eta 0:00:11\n",
      "   --------------- ------------------------ 4.7/12.6 MB 725.7 kB/s eta 0:00:11\n",
      "   --------------- ------------------------ 4.7/12.6 MB 725.7 kB/s eta 0:00:11\n",
      "   --------------- ------------------------ 4.7/12.6 MB 725.7 kB/s eta 0:00:11\n",
      "   --------------- ------------------------ 4.7/12.6 MB 725.7 kB/s eta 0:00:11\n",
      "   --------------- ------------------------ 5.0/12.6 MB 648.1 kB/s eta 0:00:12\n",
      "   --------------- ------------------------ 5.0/12.6 MB 648.1 kB/s eta 0:00:12\n",
      "   --------------- ------------------------ 5.0/12.6 MB 648.1 kB/s eta 0:00:12\n",
      "   --------------- ------------------------ 5.0/12.6 MB 648.1 kB/s eta 0:00:12\n",
      "   --------------- ------------------------ 5.0/12.6 MB 648.1 kB/s eta 0:00:12\n",
      "   --------------- ------------------------ 5.0/12.6 MB 648.1 kB/s eta 0:00:12\n",
      "   --------------- ------------------------ 5.0/12.6 MB 648.1 kB/s eta 0:00:12\n",
      "   --------------- ------------------------ 5.0/12.6 MB 648.1 kB/s eta 0:00:12\n",
      "   --------------- ------------------------ 5.0/12.6 MB 648.1 kB/s eta 0:00:12\n",
      "   ---------------- ----------------------- 5.2/12.6 MB 545.8 kB/s eta 0:00:14\n",
      "   ---------------- ----------------------- 5.2/12.6 MB 545.8 kB/s eta 0:00:14\n",
      "   ---------------- ----------------------- 5.2/12.6 MB 545.8 kB/s eta 0:00:14\n",
      "   ---------------- ----------------------- 5.2/12.6 MB 545.8 kB/s eta 0:00:14\n",
      "   ---------------- ----------------------- 5.2/12.6 MB 545.8 kB/s eta 0:00:14\n",
      "   ---------------- ----------------------- 5.2/12.6 MB 545.8 kB/s eta 0:00:14\n",
      "   ---------------- ----------------------- 5.2/12.6 MB 545.8 kB/s eta 0:00:14\n",
      "   ----------------- ---------------------- 5.5/12.6 MB 489.9 kB/s eta 0:00:15\n",
      "   ----------------- ---------------------- 5.5/12.6 MB 489.9 kB/s eta 0:00:15\n",
      "   ----------------- ---------------------- 5.5/12.6 MB 489.9 kB/s eta 0:00:15\n",
      "   ----------------- ---------------------- 5.5/12.6 MB 489.9 kB/s eta 0:00:15\n",
      "   ----------------- ---------------------- 5.5/12.6 MB 489.9 kB/s eta 0:00:15\n",
      "   ------------------ --------------------- 5.8/12.6 MB 466.6 kB/s eta 0:00:15\n",
      "   ------------------ --------------------- 5.8/12.6 MB 466.6 kB/s eta 0:00:15\n",
      "   ------------------ --------------------- 5.8/12.6 MB 466.6 kB/s eta 0:00:15\n",
      "   ------------------ --------------------- 5.8/12.6 MB 466.6 kB/s eta 0:00:15\n",
      "   ------------------- -------------------- 6.0/12.6 MB 457.3 kB/s eta 0:00:15\n",
      "   ------------------- -------------------- 6.0/12.6 MB 457.3 kB/s eta 0:00:15\n",
      "   ------------------- -------------------- 6.0/12.6 MB 457.3 kB/s eta 0:00:15\n",
      "   ------------------- -------------------- 6.0/12.6 MB 457.3 kB/s eta 0:00:15\n",
      "   ------------------- -------------------- 6.0/12.6 MB 457.3 kB/s eta 0:00:15\n",
      "   -------------------- ------------------- 6.3/12.6 MB 439.5 kB/s eta 0:00:15\n",
      "   -------------------- ------------------- 6.3/12.6 MB 439.5 kB/s eta 0:00:15\n",
      "   -------------------- ------------------- 6.3/12.6 MB 439.5 kB/s eta 0:00:15\n",
      "   -------------------- ------------------- 6.3/12.6 MB 439.5 kB/s eta 0:00:15\n",
      "   -------------------- ------------------- 6.3/12.6 MB 439.5 kB/s eta 0:00:15\n",
      "   -------------------- ------------------- 6.3/12.6 MB 439.5 kB/s eta 0:00:15\n",
      "   -------------------- ------------------- 6.3/12.6 MB 439.5 kB/s eta 0:00:15\n",
      "   -------------------- ------------------- 6.6/12.6 MB 416.8 kB/s eta 0:00:15\n",
      "   -------------------- ------------------- 6.6/12.6 MB 416.8 kB/s eta 0:00:15\n",
      "   -------------------- ------------------- 6.6/12.6 MB 416.8 kB/s eta 0:00:15\n",
      "   --------------------- ------------------ 6.8/12.6 MB 411.2 kB/s eta 0:00:14\n",
      "   --------------------- ------------------ 6.8/12.6 MB 411.2 kB/s eta 0:00:14\n",
      "   --------------------- ------------------ 6.8/12.6 MB 411.2 kB/s eta 0:00:14\n",
      "   --------------------- ------------------ 6.8/12.6 MB 411.2 kB/s eta 0:00:14\n",
      "   --------------------- ------------------ 6.8/12.6 MB 411.2 kB/s eta 0:00:14\n",
      "   ---------------------- ----------------- 7.1/12.6 MB 403.2 kB/s eta 0:00:14\n",
      "   ---------------------- ----------------- 7.1/12.6 MB 403.2 kB/s eta 0:00:14\n",
      "   ---------------------- ----------------- 7.1/12.6 MB 403.2 kB/s eta 0:00:14\n",
      "   ---------------------- ----------------- 7.1/12.6 MB 403.2 kB/s eta 0:00:14\n",
      "   ----------------------- ---------------- 7.3/12.6 MB 396.7 kB/s eta 0:00:14\n",
      "   ----------------------- ---------------- 7.3/12.6 MB 396.7 kB/s eta 0:00:14\n",
      "   ----------------------- ---------------- 7.3/12.6 MB 396.7 kB/s eta 0:00:14\n",
      "   ----------------------- ---------------- 7.3/12.6 MB 396.7 kB/s eta 0:00:14\n",
      "   ----------------------- ---------------- 7.3/12.6 MB 396.7 kB/s eta 0:00:14\n",
      "   ------------------------ --------------- 7.6/12.6 MB 386.3 kB/s eta 0:00:13\n",
      "   ------------------------ --------------- 7.6/12.6 MB 386.3 kB/s eta 0:00:13\n",
      "   ------------------------ --------------- 7.6/12.6 MB 386.3 kB/s eta 0:00:13\n",
      "   ------------------------ --------------- 7.6/12.6 MB 386.3 kB/s eta 0:00:13\n",
      "   ------------------------ --------------- 7.6/12.6 MB 386.3 kB/s eta 0:00:13\n",
      "   ------------------------ --------------- 7.6/12.6 MB 386.3 kB/s eta 0:00:13\n",
      "   ------------------------ --------------- 7.6/12.6 MB 386.3 kB/s eta 0:00:13\n",
      "   ------------------------- -------------- 7.9/12.6 MB 370.0 kB/s eta 0:00:13\n",
      "   ------------------------- -------------- 7.9/12.6 MB 370.0 kB/s eta 0:00:13\n",
      "   ------------------------- -------------- 7.9/12.6 MB 370.0 kB/s eta 0:00:13\n",
      "   ------------------------- -------------- 7.9/12.6 MB 370.0 kB/s eta 0:00:13\n",
      "   ------------------------- -------------- 7.9/12.6 MB 370.0 kB/s eta 0:00:13\n",
      "   ------------------------- -------------- 7.9/12.6 MB 370.0 kB/s eta 0:00:13\n",
      "   ------------------------- -------------- 7.9/12.6 MB 370.0 kB/s eta 0:00:13\n",
      "   ------------------------- -------------- 7.9/12.6 MB 370.0 kB/s eta 0:00:13\n",
      "   ------------------------- -------------- 8.1/12.6 MB 355.7 kB/s eta 0:00:13\n",
      "   ------------------------- -------------- 8.1/12.6 MB 355.7 kB/s eta 0:00:13\n",
      "   ------------------------- -------------- 8.1/12.6 MB 355.7 kB/s eta 0:00:13\n",
      "   -------------------------- ------------- 8.4/12.6 MB 356.7 kB/s eta 0:00:12\n",
      "   -------------------------- ------------- 8.4/12.6 MB 356.7 kB/s eta 0:00:12\n",
      "   -------------------------- ------------- 8.4/12.6 MB 356.7 kB/s eta 0:00:12\n",
      "   --------------------------- ------------ 8.7/12.6 MB 356.7 kB/s eta 0:00:11\n",
      "   --------------------------- ------------ 8.7/12.6 MB 356.7 kB/s eta 0:00:11\n",
      "   --------------------------- ------------ 8.7/12.6 MB 356.7 kB/s eta 0:00:11\n",
      "   ---------------------------- ----------- 8.9/12.6 MB 358.3 kB/s eta 0:00:11\n",
      "   ---------------------------- ----------- 8.9/12.6 MB 358.3 kB/s eta 0:00:11\n",
      "   ---------------------------- ----------- 8.9/12.6 MB 358.3 kB/s eta 0:00:11\n",
      "   ----------------------------- ---------- 9.2/12.6 MB 360.6 kB/s eta 0:00:10\n",
      "   ----------------------------- ---------- 9.2/12.6 MB 360.6 kB/s eta 0:00:10\n",
      "   ----------------------------- ---------- 9.2/12.6 MB 360.6 kB/s eta 0:00:10\n",
      "   ------------------------------ --------- 9.4/12.6 MB 362.2 kB/s eta 0:00:09\n",
      "   ------------------------------ --------- 9.4/12.6 MB 362.2 kB/s eta 0:00:09\n",
      "   ------------------------------ --------- 9.4/12.6 MB 362.2 kB/s eta 0:00:09\n",
      "   ------------------------------ --------- 9.4/12.6 MB 362.2 kB/s eta 0:00:09\n",
      "   ------------------------------ --------- 9.4/12.6 MB 362.2 kB/s eta 0:00:09\n",
      "   ------------------------------ --------- 9.7/12.6 MB 356.8 kB/s eta 0:00:09\n",
      "   ------------------------------ --------- 9.7/12.6 MB 356.8 kB/s eta 0:00:09\n",
      "   ------------------------------ --------- 9.7/12.6 MB 356.8 kB/s eta 0:00:09\n",
      "   ------------------------------ --------- 9.7/12.6 MB 356.8 kB/s eta 0:00:09\n",
      "   ------------------------------ --------- 9.7/12.6 MB 356.8 kB/s eta 0:00:09\n",
      "   ------------------------------ --------- 9.7/12.6 MB 356.8 kB/s eta 0:00:09\n",
      "   ------------------------------ --------- 9.7/12.6 MB 356.8 kB/s eta 0:00:09\n",
      "   ------------------------------- -------- 10.0/12.6 MB 346.6 kB/s eta 0:00:08\n",
      "   ------------------------------- -------- 10.0/12.6 MB 346.6 kB/s eta 0:00:08\n",
      "   ------------------------------- -------- 10.0/12.6 MB 346.6 kB/s eta 0:00:08\n",
      "   ------------------------------- -------- 10.0/12.6 MB 346.6 kB/s eta 0:00:08\n",
      "   -------------------------------- ------- 10.2/12.6 MB 344.4 kB/s eta 0:00:07\n",
      "   -------------------------------- ------- 10.2/12.6 MB 344.4 kB/s eta 0:00:07\n",
      "   -------------------------------- ------- 10.2/12.6 MB 344.4 kB/s eta 0:00:07\n",
      "   -------------------------------- ------- 10.2/12.6 MB 344.4 kB/s eta 0:00:07\n",
      "   -------------------------------- ------- 10.2/12.6 MB 344.4 kB/s eta 0:00:07\n",
      "   -------------------------------- ------- 10.2/12.6 MB 344.4 kB/s eta 0:00:07\n",
      "   -------------------------------- ------- 10.2/12.6 MB 344.4 kB/s eta 0:00:07\n",
      "   --------------------------------- ------ 10.5/12.6 MB 315.4 kB/s eta 0:00:07\n",
      "   --------------------------------- ------ 10.5/12.6 MB 315.4 kB/s eta 0:00:07\n",
      "   --------------------------------- ------ 10.5/12.6 MB 315.4 kB/s eta 0:00:07\n",
      "   --------------------------------- ------ 10.5/12.6 MB 315.4 kB/s eta 0:00:07\n",
      "   --------------------------------- ------ 10.5/12.6 MB 315.4 kB/s eta 0:00:07\n",
      "   --------------------------------- ------ 10.5/12.6 MB 315.4 kB/s eta 0:00:07\n",
      "   --------------------------------- ------ 10.5/12.6 MB 315.4 kB/s eta 0:00:07\n",
      "   --------------------------------- ------ 10.5/12.6 MB 315.4 kB/s eta 0:00:07\n",
      "   --------------------------------- ------ 10.5/12.6 MB 315.4 kB/s eta 0:00:07\n",
      "   --------------------------------- ------ 10.5/12.6 MB 315.4 kB/s eta 0:00:07\n",
      "   --------------------------------- ------ 10.5/12.6 MB 315.4 kB/s eta 0:00:07\n",
      "   --------------------------------- ------ 10.5/12.6 MB 315.4 kB/s eta 0:00:07\n",
      "   --------------------------------- ------ 10.5/12.6 MB 315.4 kB/s eta 0:00:07\n",
      "   --------------------------------- ------ 10.5/12.6 MB 315.4 kB/s eta 0:00:07\n",
      "   ---------------------------------- ----- 10.7/12.6 MB 228.4 kB/s eta 0:00:08\n",
      "   ---------------------------------- ----- 10.7/12.6 MB 228.4 kB/s eta 0:00:08\n",
      "   ---------------------------------- ----- 10.7/12.6 MB 228.4 kB/s eta 0:00:08\n",
      "   ---------------------------------- ----- 10.7/12.6 MB 228.4 kB/s eta 0:00:08\n",
      "   ---------------------------------- ----- 10.7/12.6 MB 228.4 kB/s eta 0:00:08\n",
      "   ---------------------------------- ----- 10.7/12.6 MB 228.4 kB/s eta 0:00:08\n",
      "   ----------------------------------- ---- 11.0/12.6 MB 221.7 kB/s eta 0:00:08\n",
      "   ----------------------------------- ---- 11.0/12.6 MB 221.7 kB/s eta 0:00:08\n",
      "   ----------------------------------- ---- 11.0/12.6 MB 221.7 kB/s eta 0:00:08\n",
      "   ----------------------------------- ---- 11.0/12.6 MB 221.7 kB/s eta 0:00:08\n",
      "   ----------------------------------- ---- 11.0/12.6 MB 221.7 kB/s eta 0:00:08\n",
      "   ----------------------------------- ---- 11.3/12.6 MB 221.4 kB/s eta 0:00:06\n",
      "   ----------------------------------- ---- 11.3/12.6 MB 221.4 kB/s eta 0:00:06\n",
      "   ----------------------------------- ---- 11.3/12.6 MB 221.4 kB/s eta 0:00:06\n",
      "   ----------------------------------- ---- 11.3/12.6 MB 221.4 kB/s eta 0:00:06\n",
      "   ----------------------------------- ---- 11.3/12.6 MB 221.4 kB/s eta 0:00:06\n",
      "   ------------------------------------ --- 11.5/12.6 MB 221.2 kB/s eta 0:00:05\n",
      "   ------------------------------------ --- 11.5/12.6 MB 221.2 kB/s eta 0:00:05\n",
      "   ------------------------------------ --- 11.5/12.6 MB 221.2 kB/s eta 0:00:05\n",
      "   ------------------------------------- -- 11.8/12.6 MB 230.7 kB/s eta 0:00:04\n",
      "   ------------------------------------- -- 11.8/12.6 MB 230.7 kB/s eta 0:00:04\n",
      "   ------------------------------------- -- 11.8/12.6 MB 230.7 kB/s eta 0:00:04\n",
      "   ------------------------------------- -- 11.8/12.6 MB 230.7 kB/s eta 0:00:04\n",
      "   ------------------------------------- -- 11.8/12.6 MB 230.7 kB/s eta 0:00:04\n",
      "   -------------------------------------- - 12.1/12.6 MB 232.4 kB/s eta 0:00:03\n",
      "   -------------------------------------- - 12.1/12.6 MB 232.4 kB/s eta 0:00:03\n",
      "   -------------------------------------- - 12.1/12.6 MB 232.4 kB/s eta 0:00:03\n",
      "   -------------------------------------- - 12.1/12.6 MB 232.4 kB/s eta 0:00:03\n",
      "   -------------------------------------- - 12.1/12.6 MB 232.4 kB/s eta 0:00:03\n",
      "   ---------------------------------------  12.3/12.6 MB 236.3 kB/s eta 0:00:02\n",
      "   ---------------------------------------  12.3/12.6 MB 236.3 kB/s eta 0:00:02\n",
      "   ---------------------------------------  12.3/12.6 MB 236.3 kB/s eta 0:00:02\n",
      "   ---------------------------------------  12.3/12.6 MB 236.3 kB/s eta 0:00:02\n",
      "   ---------------------------------------  12.3/12.6 MB 236.3 kB/s eta 0:00:02\n",
      "   ---------------------------------------  12.3/12.6 MB 236.3 kB/s eta 0:00:02\n",
      "   ---------------------------------------  12.3/12.6 MB 236.3 kB/s eta 0:00:02\n",
      "   ---------------------------------------- 12.6/12.6 MB 233.0 kB/s eta 0:00:00\n",
      "Installing collected packages: numpy\n",
      "  Attempting uninstall: numpy\n",
      "    Found existing installation: numpy 2.2.5\n",
      "    Uninstalling numpy-2.2.5:\n",
      "      Successfully uninstalled numpy-2.2.5\n",
      "Successfully installed numpy-2.1.3\n"
     ]
    },
    {
     "data": {
      "text/html": [
       "\n",
       "            <div>\n",
       "                <ins><a href=\"https://ydata.ai/register\">Upgrade to ydata-sdk</a></ins>\n",
       "                <p>\n",
       "                    Improve your data and profiling with ydata-sdk, featuring data quality scoring, redundancy detection, outlier identification, text validation, and synthetic data generation.\n",
       "                </p>\n",
       "            </div>\n",
       "            "
      ],
      "text/plain": [
       "<IPython.core.display.HTML object>"
      ]
     },
     "metadata": {},
     "output_type": "display_data"
    }
   ],
   "source": [
    "!pip install ydata_profiling\n",
    "\n",
    "from ydata_profiling import ProfileReport\n",
    "import pandas as pd\n",
    "import numpy as np"
   ]
  },
  {
   "cell_type": "code",
   "execution_count": 4,
   "id": "69612e8d",
   "metadata": {},
   "outputs": [],
   "source": [
    "df = pd.read_csv('skillsets.csv')"
   ]
  },
  {
   "cell_type": "code",
   "execution_count": 6,
   "id": "822b0fe3",
   "metadata": {},
   "outputs": [
    {
     "data": {
      "application/vnd.jupyter.widget-view+json": {
       "model_id": "606820dc4e4446b78f2bdd9f2cf8e86d",
       "version_major": 2,
       "version_minor": 0
      },
      "text/plain": [
       "Summarize dataset:   0%|          | 0/5 [00:00<?, ?it/s]"
      ]
     },
     "metadata": {},
     "output_type": "display_data"
    },
    {
     "name": "stderr",
     "output_type": "stream",
     "text": [
      "100%|██████████| 3/3 [00:00<00:00, 27.00it/s]\n"
     ]
    },
    {
     "data": {
      "application/vnd.jupyter.widget-view+json": {
       "model_id": "a59a22b8eb664eb5a1c7cad9047f7fd5",
       "version_major": 2,
       "version_minor": 0
      },
      "text/plain": [
       "Generate report structure:   0%|          | 0/1 [00:00<?, ?it/s]"
      ]
     },
     "metadata": {},
     "output_type": "display_data"
    },
    {
     "data": {
      "application/vnd.jupyter.widget-view+json": {
       "model_id": "7e28d6c58b4849bfb8f5209c18292b50",
       "version_major": 2,
       "version_minor": 0
      },
      "text/plain": [
       "Render HTML:   0%|          | 0/1 [00:00<?, ?it/s]"
      ]
     },
     "metadata": {},
     "output_type": "display_data"
    },
    {
     "data": {
      "application/vnd.jupyter.widget-view+json": {
       "model_id": "cb99518310094a5496d1b184a4ffc7d1",
       "version_major": 2,
       "version_minor": 0
      },
      "text/plain": [
       "Export report to file:   0%|          | 0/1 [00:00<?, ?it/s]"
      ]
     },
     "metadata": {},
     "output_type": "display_data"
    }
   ],
   "source": [
    "profile = ProfileReport(df, title=\"Skillsets Profiling Report\", explorative=True)\n",
    "profile.to_file(\"skillsets_report.html\")"
   ]
  },
  {
   "cell_type": "code",
   "execution_count": 33,
   "id": "62307ad7",
   "metadata": {},
   "outputs": [],
   "source": [
    "df = pd.read_csv('final_skills_dataset.csv')"
   ]
  },
  {
   "cell_type": "code",
   "execution_count": 34,
   "id": "a86e8f86",
   "metadata": {},
   "outputs": [
    {
     "name": "stderr",
     "output_type": "stream",
     "text": [
      "C:\\Users\\moham\\AppData\\Local\\Temp\\ipykernel_26960\\927040260.py:1: FutureWarning: DataFrame.applymap has been deprecated. Use DataFrame.map instead.\n",
      "  df = df.applymap(lambda x: x.lower().strip() if isinstance(x, str) else x)\n"
     ]
    },
    {
     "data": {
      "text/html": [
       "<div>\n",
       "<style scoped>\n",
       "    .dataframe tbody tr th:only-of-type {\n",
       "        vertical-align: middle;\n",
       "    }\n",
       "\n",
       "    .dataframe tbody tr th {\n",
       "        vertical-align: top;\n",
       "    }\n",
       "\n",
       "    .dataframe thead th {\n",
       "        text-align: right;\n",
       "    }\n",
       "</style>\n",
       "<table border=\"1\" class=\"dataframe\">\n",
       "  <thead>\n",
       "    <tr style=\"text-align: right;\">\n",
       "      <th></th>\n",
       "      <th>Domain</th>\n",
       "      <th>Role</th>\n",
       "      <th>Skills</th>\n",
       "    </tr>\n",
       "  </thead>\n",
       "  <tbody>\n",
       "    <tr>\n",
       "      <th>0</th>\n",
       "      <td>networking &amp; it support</td>\n",
       "      <td>network engineer</td>\n",
       "      <td>['cisco', 'network monitoring', 'firewall', 'v...</td>\n",
       "    </tr>\n",
       "    <tr>\n",
       "      <th>1</th>\n",
       "      <td>artificial intelligence &amp; machine learning</td>\n",
       "      <td>ml researcher</td>\n",
       "      <td>['numpy', 'python', 'statistics', 'pandas', 'm...</td>\n",
       "    </tr>\n",
       "    <tr>\n",
       "      <th>2</th>\n",
       "      <td>blockchain &amp; web3</td>\n",
       "      <td>blockchain developer</td>\n",
       "      <td>['ipfs', 'truffle', 'security audits', 'smart ...</td>\n",
       "    </tr>\n",
       "    <tr>\n",
       "      <th>3</th>\n",
       "      <td>cybersecurity</td>\n",
       "      <td>penetration tester</td>\n",
       "      <td>['ethical hacking', 'python', 'metasploit', 'o...</td>\n",
       "    </tr>\n",
       "    <tr>\n",
       "      <th>4</th>\n",
       "      <td>artificial intelligence &amp; machine learning</td>\n",
       "      <td>ai engineer</td>\n",
       "      <td>['nlp', 'opencv', 'tensorflow', 'data preproce...</td>\n",
       "    </tr>\n",
       "  </tbody>\n",
       "</table>\n",
       "</div>"
      ],
      "text/plain": [
       "                                       Domain                  Role  \\\n",
       "0                     networking & it support      network engineer   \n",
       "1  artificial intelligence & machine learning         ml researcher   \n",
       "2                           blockchain & web3  blockchain developer   \n",
       "3                               cybersecurity    penetration tester   \n",
       "4  artificial intelligence & machine learning           ai engineer   \n",
       "\n",
       "                                              Skills  \n",
       "0  ['cisco', 'network monitoring', 'firewall', 'v...  \n",
       "1  ['numpy', 'python', 'statistics', 'pandas', 'm...  \n",
       "2  ['ipfs', 'truffle', 'security audits', 'smart ...  \n",
       "3  ['ethical hacking', 'python', 'metasploit', 'o...  \n",
       "4  ['nlp', 'opencv', 'tensorflow', 'data preproce...  "
      ]
     },
     "execution_count": 34,
     "metadata": {},
     "output_type": "execute_result"
    }
   ],
   "source": [
    "\n",
    "df = df.applymap(lambda x: x.lower().strip() if isinstance(x, str) else x)\n",
    "\n",
    "df.head()"
   ]
  },
  {
   "cell_type": "code",
   "execution_count": 35,
   "id": "80d27212",
   "metadata": {},
   "outputs": [],
   "source": [
    "import ast\n",
    "\n",
    "# Convert stringified lists into actual lists\n",
    "df['Skills'] = df['Skills'].apply(lambda x: ast.literal_eval(x))\n",
    "\n",
    "# Clean each skill in the list\n",
    "df['Skills'] = df['Skills'].apply(\n",
    "    lambda skills: [skill.strip().lower() for skill in skills if isinstance(skill, str)]\n",
    ")\n",
    "\n"
   ]
  },
  {
   "cell_type": "code",
   "execution_count": 12,
   "id": "7d66905e",
   "metadata": {},
   "outputs": [
    {
     "data": {
      "text/html": [
       "<div>\n",
       "<style scoped>\n",
       "    .dataframe tbody tr th:only-of-type {\n",
       "        vertical-align: middle;\n",
       "    }\n",
       "\n",
       "    .dataframe tbody tr th {\n",
       "        vertical-align: top;\n",
       "    }\n",
       "\n",
       "    .dataframe thead th {\n",
       "        text-align: right;\n",
       "    }\n",
       "</style>\n",
       "<table border=\"1\" class=\"dataframe\">\n",
       "  <thead>\n",
       "    <tr style=\"text-align: right;\">\n",
       "      <th></th>\n",
       "      <th>Domain</th>\n",
       "      <th>Role</th>\n",
       "      <th>Required Skills</th>\n",
       "    </tr>\n",
       "  </thead>\n",
       "  <tbody>\n",
       "    <tr>\n",
       "      <th>0</th>\n",
       "      <td>data science &amp; analytics</td>\n",
       "      <td>data analyst</td>\n",
       "      <td>[business analysis, dax, dashboards, data clea...</td>\n",
       "    </tr>\n",
       "    <tr>\n",
       "      <th>1</th>\n",
       "      <td>cybersecurity</td>\n",
       "      <td>penetration tester</td>\n",
       "      <td>[burp suite, ethical hacking, exploit developm...</td>\n",
       "    </tr>\n",
       "    <tr>\n",
       "      <th>2</th>\n",
       "      <td>hr analytics</td>\n",
       "      <td>hr analyst</td>\n",
       "      <td>[dashboarding, data cleaning, data visualizati...</td>\n",
       "    </tr>\n",
       "    <tr>\n",
       "      <th>3</th>\n",
       "      <td>blockchain &amp; web3</td>\n",
       "      <td>web3 engineer</td>\n",
       "      <td>[chainlink, dapps, hardhat, ipfs, react, rust,...</td>\n",
       "    </tr>\n",
       "    <tr>\n",
       "      <th>4</th>\n",
       "      <td>talent acquisition &amp; recruitment</td>\n",
       "      <td>recruiter</td>\n",
       "      <td>[ats, candidate screening, cold calling, follo...</td>\n",
       "    </tr>\n",
       "  </tbody>\n",
       "</table>\n",
       "</div>"
      ],
      "text/plain": [
       "                             Domain                Role  \\\n",
       "0          data science & analytics        data analyst   \n",
       "1                     cybersecurity  penetration tester   \n",
       "2                      hr analytics          hr analyst   \n",
       "3                 blockchain & web3       web3 engineer   \n",
       "4  talent acquisition & recruitment           recruiter   \n",
       "\n",
       "                                     Required Skills  \n",
       "0  [business analysis, dax, dashboards, data clea...  \n",
       "1  [burp suite, ethical hacking, exploit developm...  \n",
       "2  [dashboarding, data cleaning, data visualizati...  \n",
       "3  [chainlink, dapps, hardhat, ipfs, react, rust,...  \n",
       "4  [ats, candidate screening, cold calling, follo...  "
      ]
     },
     "execution_count": 12,
     "metadata": {},
     "output_type": "execute_result"
    }
   ],
   "source": [
    "df.head()"
   ]
  },
  {
   "cell_type": "code",
   "execution_count": 36,
   "id": "22b4a503",
   "metadata": {},
   "outputs": [],
   "source": [
    "skill_map = {\n",
    "    'ml': 'machine learning',\n",
    "    'dl': 'deep learning',\n",
    "    'reactjs': 'react',\n",
    "    'js': 'javascript',\n",
    "    'node': 'nodejs',\n",
    "    'excel spreadsheets': 'excel',\n",
    "    'dashboards': 'dashboarding',\n",
    "    'ai': 'artificial intelligence',\n",
    "    'stats': 'statistics',\n",
    "    'microsoft excel': 'excel',\n",
    "    \n",
    "}\n",
    "\n",
    "def standardize_skills(skills):\n",
    "    return [skill_map.get(skill, skill) for skill in skills]\n",
    "\n",
    "df['Skills'] = df['Skills'].apply(standardize_skills)\n"
   ]
  },
  {
   "cell_type": "code",
   "execution_count": 37,
   "id": "fafb0946",
   "metadata": {},
   "outputs": [
    {
     "data": {
      "text/html": [
       "<div>\n",
       "<style scoped>\n",
       "    .dataframe tbody tr th:only-of-type {\n",
       "        vertical-align: middle;\n",
       "    }\n",
       "\n",
       "    .dataframe tbody tr th {\n",
       "        vertical-align: top;\n",
       "    }\n",
       "\n",
       "    .dataframe thead th {\n",
       "        text-align: right;\n",
       "    }\n",
       "</style>\n",
       "<table border=\"1\" class=\"dataframe\">\n",
       "  <thead>\n",
       "    <tr style=\"text-align: right;\">\n",
       "      <th></th>\n",
       "      <th>Domain</th>\n",
       "      <th>Role</th>\n",
       "      <th>Skills</th>\n",
       "    </tr>\n",
       "  </thead>\n",
       "  <tbody>\n",
       "    <tr>\n",
       "      <th>0</th>\n",
       "      <td>networking &amp; it support</td>\n",
       "      <td>network engineer</td>\n",
       "      <td>[cisco, network monitoring, firewall, vpn, rou...</td>\n",
       "    </tr>\n",
       "    <tr>\n",
       "      <th>1</th>\n",
       "      <td>artificial intelligence &amp; machine learning</td>\n",
       "      <td>ml researcher</td>\n",
       "      <td>[numpy, python, statistics, pandas, model eval...</td>\n",
       "    </tr>\n",
       "    <tr>\n",
       "      <th>2</th>\n",
       "      <td>blockchain &amp; web3</td>\n",
       "      <td>blockchain developer</td>\n",
       "      <td>[ipfs, truffle, security audits, smart contrac...</td>\n",
       "    </tr>\n",
       "    <tr>\n",
       "      <th>3</th>\n",
       "      <td>cybersecurity</td>\n",
       "      <td>penetration tester</td>\n",
       "      <td>[ethical hacking, python, metasploit, owasp, e...</td>\n",
       "    </tr>\n",
       "    <tr>\n",
       "      <th>4</th>\n",
       "      <td>artificial intelligence &amp; machine learning</td>\n",
       "      <td>ai engineer</td>\n",
       "      <td>[nlp, opencv, tensorflow, data preprocessing, ...</td>\n",
       "    </tr>\n",
       "  </tbody>\n",
       "</table>\n",
       "</div>"
      ],
      "text/plain": [
       "                                       Domain                  Role  \\\n",
       "0                     networking & it support      network engineer   \n",
       "1  artificial intelligence & machine learning         ml researcher   \n",
       "2                           blockchain & web3  blockchain developer   \n",
       "3                               cybersecurity    penetration tester   \n",
       "4  artificial intelligence & machine learning           ai engineer   \n",
       "\n",
       "                                              Skills  \n",
       "0  [cisco, network monitoring, firewall, vpn, rou...  \n",
       "1  [numpy, python, statistics, pandas, model eval...  \n",
       "2  [ipfs, truffle, security audits, smart contrac...  \n",
       "3  [ethical hacking, python, metasploit, owasp, e...  \n",
       "4  [nlp, opencv, tensorflow, data preprocessing, ...  "
      ]
     },
     "execution_count": 37,
     "metadata": {},
     "output_type": "execute_result"
    }
   ],
   "source": [
    "df.tail()\n",
    "df.head()"
   ]
  },
  {
   "cell_type": "code",
   "execution_count": 38,
   "id": "a48fe982",
   "metadata": {},
   "outputs": [],
   "source": [
    "# Remove duplicates while preserving order (for each row)\n",
    "df['Skills'] = df['Skills'].apply(lambda skills: list(dict.fromkeys(skills)))\n"
   ]
  },
  {
   "cell_type": "code",
   "execution_count": 39,
   "id": "00bb51d2",
   "metadata": {},
   "outputs": [
    {
     "name": "stdout",
     "output_type": "stream",
     "text": [
      "['active directory', 'adaptability', 'adobe xd', 'agile', 'airflow', 'analytics', 'ansible', 'apis', 'ats', 'aws', 'azure', 'backlog management', 'benefits admin', 'bgp', 'bookkeeping', 'budgeting', 'burp suite', 'business analysis', 'candidate screening', 'chainlink', 'ci/cd', 'cisco', 'cloud security', 'cnn', 'cold calling', 'color theory', 'communication', 'community engagement', 'compliance', 'conflict resolution', 'content creation', 'content marketing', 'creativity', 'critical thinking', 'crm', 'cross-functional leadership', 'css', 'customer communication', 'customer insights', 'customer support', 'dapps', 'dashboarding', 'data analysis', 'data cleaning', 'data modeling', 'data preprocessing', 'data visualization', 'data warehousing', 'dax', 'dbt', 'deep learning', 'design patterns', 'design systems', 'devops', 'docker', 'documentation', 'email config', 'email marketing', 'empathy', 'employee relations', 'ethereum', 'ethers.js', 'ethical hacking', 'etl', 'excel', 'exploit development', 'express', 'facebook ads', 'figma', 'financial modeling', 'firewall', 'follow-up', 'forecasting', 'ganache', 'gans', 'gcp', 'git', 'google ads', 'google analytics', 'hadoop', 'hardhat', 'hashtags', 'help desk', 'hibernate', 'high availability', 'hr policies', 'hris', 'html', 'illustrator', 'incident response', 'instagram', 'internal audit', 'interviewing', 'ipfs', 'java', 'javascript', 'jenkins', 'jira', 'job portals', 'kali linux', 'kanban', 'keras', 'kotlin', 'kpi analysis', 'kubernetes', 'leadership', 'ledger', 'linkedin', 'linkedin recruiter', 'linux', 'load balancing', 'logs analysis', 'machine learning', 'market research', 'matplotlib', 'metasploit', 'microservices', 'ml pipelines', 'model evaluation', 'mongodb', 'monitoring', 'nat', 'negotiation', 'network monitoring', 'networking', 'nlp', 'nmap', 'node.js', 'numpy', 'office 365', 'onboarding', 'opencv', 'owasp', 'pandas', 'payroll', 'people analytics', 'pivot tables', 'postgresql', 'power bi', 'predictive analytics', 'printers', 'problem solving', 'process mapping', 'product knowledge', 'prototyping', 'python', 'pytorch', 'quickbooks', 'react', 'reconciliation', 'recruitment', 'redux', 'regulatory standards', 'remote desktop', 'requirements gathering', 'research', 'research papers', 'responsive design', 'rest', 'rest apis', 'resume review', 'risk management', 'rnn', 'roadmapping', 'routing', 'rust', 'scikit-learn', 'screening', 'scripting', 'scrum', 'security audits', 'seo', 'sketch', 'slas', 'smart contracts', 'solana', 'solidity', 'sourcing', 'spark', 'spring boot', 'sql', 'sql server', 'ssis', 'ssrs', 'stakeholder communication', 'stakeholder management', 'statistics', 'strategy', 'switching', 'tableau', 'taxation', 'teamwork', 'technical writing', 'tensorflow', 'terraform', 'ticketing', 'ticketing systems', 'training', 'transformer models', 'troubleshooting', 'truffle', 'typescript', 'uml', 'user stories', 'vba', 'virtualization', 'vpn', 'wallet integration', 'web3.js', 'webpack', 'windows', 'wireframing', 'wireshark']\n"
     ]
    }
   ],
   "source": [
    "# Printing All Unique Skills\n",
    "# Flatten all skills into one list and get unique ones\n",
    "all_skills = set(skill for skills in df['Skills'] for skill in skills)\n",
    "print(sorted(all_skills))\n"
   ]
  },
  {
   "cell_type": "code",
   "execution_count": 40,
   "id": "cd5279d8",
   "metadata": {},
   "outputs": [],
   "source": [
    "# Convert list of skills to comma-separated string\n",
    "df['Skills'] = df['Skills'].apply(lambda x: ', '.join(x) if isinstance(x, list) else x)\n"
   ]
  },
  {
   "cell_type": "code",
   "execution_count": 28,
   "id": "a4dca1eb",
   "metadata": {},
   "outputs": [
    {
     "data": {
      "application/vnd.jupyter.widget-view+json": {
       "model_id": "9d99c288fabd44df99bf90922025c1a6",
       "version_major": 2,
       "version_minor": 0
      },
      "text/plain": [
       "Summarize dataset:   0%|          | 0/5 [00:00<?, ?it/s]"
      ]
     },
     "metadata": {},
     "output_type": "display_data"
    },
    {
     "name": "stderr",
     "output_type": "stream",
     "text": [
      "100%|██████████| 3/3 [00:00<00:00, 34.22it/s]\n"
     ]
    },
    {
     "data": {
      "application/vnd.jupyter.widget-view+json": {
       "model_id": "62854c79455b49ac80d5e48499dbf67c",
       "version_major": 2,
       "version_minor": 0
      },
      "text/plain": [
       "Generate report structure:   0%|          | 0/1 [00:00<?, ?it/s]"
      ]
     },
     "metadata": {},
     "output_type": "display_data"
    },
    {
     "data": {
      "application/vnd.jupyter.widget-view+json": {
       "model_id": "5bc019a2ab4c45a5b04f7a29b3670c04",
       "version_major": 2,
       "version_minor": 0
      },
      "text/plain": [
       "Render HTML:   0%|          | 0/1 [00:00<?, ?it/s]"
      ]
     },
     "metadata": {},
     "output_type": "display_data"
    },
    {
     "data": {
      "application/vnd.jupyter.widget-view+json": {
       "model_id": "0bfb6bc70f6e410c9d6d73522e8e24c3",
       "version_major": 2,
       "version_minor": 0
      },
      "text/plain": [
       "Export report to file:   0%|          | 0/1 [00:00<?, ?it/s]"
      ]
     },
     "metadata": {},
     "output_type": "display_data"
    }
   ],
   "source": [
    "profile = ProfileReport(df, title=\"Final Skillsets Profiling Report\", explorative=True)\n",
    "profile.to_file(\"final_skillsets_report.html\")"
   ]
  },
  {
   "cell_type": "code",
   "execution_count": 41,
   "id": "d97ae899",
   "metadata": {},
   "outputs": [],
   "source": [
    "from sklearn.model_selection import train_test_split\n",
    "from sklearn.preprocessing import MultiLabelBinarizer"
   ]
  },
  {
   "cell_type": "markdown",
   "id": "d08dc42d",
   "metadata": {},
   "source": []
  },
  {
   "cell_type": "code",
   "execution_count": 42,
   "id": "0c8ce484",
   "metadata": {},
   "outputs": [],
   "source": [
    "# Encode skills\n",
    "mlb = MultiLabelBinarizer()\n",
    "X = mlb.fit_transform(df['Skills'])\n",
    "y = df['Role']\n",
    "\n",
    "# Train/test split\n",
    "X_train, X_test, y_train, y_test = train_test_split(X, y, test_size=0.2, random_state=42)"
   ]
  },
  {
   "cell_type": "code",
   "execution_count": 15,
   "id": "1cd01005",
   "metadata": {},
   "outputs": [
    {
     "name": "stdout",
     "output_type": "stream",
     "text": [
      "Random Forest Accuracy: 0.97\n",
      "Classification Report:\n",
      "                            precision    recall  f1-score   support\n",
      "\n",
      "              ai engineer       1.00      0.83      0.91         6\n",
      "            ai researcher       1.00      1.00      1.00         8\n",
      "             bi developer       1.00      0.93      0.96        14\n",
      "         business analyst       1.00      1.00      1.00        14\n",
      "           cloud engineer       1.00      1.00      1.00         9\n",
      "             data analyst       1.00      1.00      1.00         9\n",
      "            data engineer       0.88      1.00      0.93         7\n",
      "           data scientist       0.77      1.00      0.87        10\n",
      "          devops engineer       1.00      1.00      1.00        12\n",
      "         digital marketer       1.00      1.00      1.00         7\n",
      "              dl engineer       1.00      1.00      1.00         6\n",
      "     full stack developer       1.00      1.00      1.00         9\n",
      "         graphic designer       1.00      1.00      1.00        13\n",
      "            hr specialist       1.00      0.92      0.96        12\n",
      "              ml engineer       1.00      0.91      0.95        11\n",
      "     mobile app developer       1.00      0.89      0.94         9\n",
      "       penetration tester       0.95      1.00      0.97        18\n",
      "          product manager       1.00      0.93      0.96        14\n",
      "            product owner       1.00      1.00      1.00        10\n",
      "          prompt engineer       1.00      1.00      1.00         5\n",
      "                      sde       1.00      1.00      1.00         5\n",
      "         security analyst       1.00      1.00      1.00        20\n",
      "site reliability engineer       0.83      1.00      0.91        10\n",
      "       software developer       1.00      0.83      0.91        12\n",
      "       talent acquisition       1.00      1.00      1.00        16\n",
      "              ux designer       1.00      1.00      1.00        11\n",
      "             video editor       0.92      0.96      0.94        23\n",
      "\n",
      "                 accuracy                           0.97       300\n",
      "                macro avg       0.98      0.97      0.97       300\n",
      "             weighted avg       0.97      0.97      0.97       300\n",
      "\n"
     ]
    }
   ],
   "source": [
    "# Random Forest Classifier\n",
    "from sklearn.ensemble import RandomForestClassifier\n",
    "from sklearn.metrics import accuracy_score, classification_report\n",
    "\n",
    "rf = RandomForestClassifier(random_state=42)\n",
    "rf.fit(X_train, y_train)\n",
    "rf_preds = rf.predict(X_test)\n",
    "\n",
    "print(\"Random Forest Accuracy:\", accuracy_score(y_test, rf_preds))\n",
    "print(\"Classification Report:\\n\", classification_report(y_test, rf_preds))\n"
   ]
  },
  {
   "cell_type": "code",
   "execution_count": 43,
   "id": "7f272851",
   "metadata": {},
   "outputs": [
    {
     "name": "stdout",
     "output_type": "stream",
     "text": [
      "Logistic Regression Accuracy: 0.97\n",
      "Classification Report:\n",
      "                                precision    recall  f1-score   support\n",
      "\n",
      "                   accountant       1.00      1.00      1.00         9\n",
      "                  ai engineer       1.00      1.00      1.00         7\n",
      "                ai researcher       0.89      1.00      0.94         8\n",
      "           analytics engineer       1.00      1.00      1.00        20\n",
      "                      auditor       1.00      1.00      1.00        16\n",
      "            backend developer       1.00      0.93      0.97        15\n",
      "                 bi developer       1.00      1.00      1.00         5\n",
      "         blockchain developer       1.00      1.00      1.00         2\n",
      "             business analyst       1.00      0.96      0.98        27\n",
      "              cloud architect       0.75      1.00      0.86         3\n",
      "               cloud engineer       1.00      1.00      1.00        25\n",
      "  customer support specialist       0.75      1.00      0.86         6\n",
      "                 data analyst       0.86      0.92      0.89        13\n",
      "                data engineer       1.00      1.00      1.00        12\n",
      "               data scientist       1.00      1.00      1.00         9\n",
      "              devops engineer       1.00      1.00      1.00        18\n",
      "             digital marketer       0.93      1.00      0.96        13\n",
      "                  dl engineer       1.00      1.00      1.00        14\n",
      "            financial analyst       1.00      1.00      1.00        12\n",
      "           frontend developer       1.00      1.00      1.00        10\n",
      "         full stack developer       0.95      1.00      0.98        21\n",
      "                   hr analyst       1.00      0.75      0.86         8\n",
      "                hr generalist       1.00      1.00      1.00        13\n",
      "                   hr manager       1.00      1.00      1.00        14\n",
      "        it support specialist       1.00      0.83      0.91        12\n",
      "            marketing analyst       1.00      1.00      1.00        16\n",
      "                  ml engineer       1.00      1.00      1.00         8\n",
      "                ml researcher       1.00      1.00      1.00         8\n",
      "             network engineer       1.00      0.75      0.86         8\n",
      "           penetration tester       1.00      1.00      1.00         4\n",
      "              product manager       0.92      0.96      0.94        25\n",
      "                product owner       0.92      1.00      0.96        12\n",
      "              project manager       1.00      1.00      1.00        14\n",
      "                    recruiter       1.00      0.89      0.94         9\n",
      "    site reliability engineer       0.94      0.94      0.94        17\n",
      "         social media manager       1.00      1.00      1.00        14\n",
      "talent acquisition specialist       1.00      1.00      1.00        18\n",
      "   technical support engineer       1.00      1.00      1.00        20\n",
      "                  ui designer       0.73      0.89      0.80         9\n",
      "                web3 engineer       1.00      0.67      0.80         6\n",
      "\n",
      "                     accuracy                           0.97       500\n",
      "                    macro avg       0.97      0.96      0.96       500\n",
      "                 weighted avg       0.97      0.97      0.97       500\n",
      "\n"
     ]
    }
   ],
   "source": [
    "# Logistic Regression\n",
    "from sklearn.linear_model import LogisticRegression\n",
    "\n",
    "lr = LogisticRegression(max_iter=1000)\n",
    "lr.fit(X_train, y_train)\n",
    "lr_preds = lr.predict(X_test)\n",
    "\n",
    "print(\"Logistic Regression Accuracy:\", accuracy_score(y_test, lr_preds))\n",
    "print(\"Classification Report:\\n\", classification_report(y_test, lr_preds))\n"
   ]
  },
  {
   "cell_type": "code",
   "execution_count": 44,
   "id": "9373b326",
   "metadata": {},
   "outputs": [
    {
     "name": "stdout",
     "output_type": "stream",
     "text": [
      "SVM Accuracy: 0.966\n",
      "Classification Report:\n",
      "                                precision    recall  f1-score   support\n",
      "\n",
      "                   accountant       1.00      1.00      1.00         9\n",
      "                  ai engineer       0.86      0.86      0.86         7\n",
      "                ai researcher       0.89      1.00      0.94         8\n",
      "           analytics engineer       1.00      0.95      0.97        20\n",
      "                      auditor       1.00      1.00      1.00        16\n",
      "            backend developer       1.00      1.00      1.00        15\n",
      "                 bi developer       1.00      1.00      1.00         5\n",
      "         blockchain developer       1.00      1.00      1.00         2\n",
      "             business analyst       1.00      0.96      0.98        27\n",
      "              cloud architect       0.50      0.67      0.57         3\n",
      "               cloud engineer       1.00      1.00      1.00        25\n",
      "  customer support specialist       1.00      1.00      1.00         6\n",
      "                 data analyst       0.92      0.92      0.92        13\n",
      "                data engineer       1.00      1.00      1.00        12\n",
      "               data scientist       0.82      1.00      0.90         9\n",
      "              devops engineer       1.00      1.00      1.00        18\n",
      "             digital marketer       1.00      1.00      1.00        13\n",
      "                  dl engineer       1.00      1.00      1.00        14\n",
      "            financial analyst       1.00      0.92      0.96        12\n",
      "           frontend developer       1.00      1.00      1.00        10\n",
      "         full stack developer       0.95      1.00      0.98        21\n",
      "                   hr analyst       1.00      0.88      0.93         8\n",
      "                hr generalist       0.93      1.00      0.96        13\n",
      "                   hr manager       1.00      1.00      1.00        14\n",
      "        it support specialist       1.00      0.83      0.91        12\n",
      "            marketing analyst       1.00      1.00      1.00        16\n",
      "                  ml engineer       1.00      1.00      1.00         8\n",
      "                ml researcher       1.00      1.00      1.00         8\n",
      "             network engineer       1.00      0.88      0.93         8\n",
      "           penetration tester       1.00      1.00      1.00         4\n",
      "              product manager       0.88      0.92      0.90        25\n",
      "                product owner       0.92      1.00      0.96        12\n",
      "              project manager       1.00      1.00      1.00        14\n",
      "                    recruiter       1.00      0.89      0.94         9\n",
      "    site reliability engineer       0.89      0.94      0.91        17\n",
      "         social media manager       1.00      1.00      1.00        14\n",
      "talent acquisition specialist       1.00      1.00      1.00        18\n",
      "   technical support engineer       1.00      1.00      1.00        20\n",
      "                  ui designer       0.80      0.89      0.84         9\n",
      "                web3 engineer       1.00      0.67      0.80         6\n",
      "\n",
      "                     accuracy                           0.97       500\n",
      "                    macro avg       0.96      0.95      0.95       500\n",
      "                 weighted avg       0.97      0.97      0.97       500\n",
      "\n"
     ]
    }
   ],
   "source": [
    "# SVM\n",
    "from sklearn.svm import SVC\n",
    "\n",
    "svm = SVC()\n",
    "svm.fit(X_train, y_train)\n",
    "svm_preds = svm.predict(X_test)\n",
    "\n",
    "print(\"SVM Accuracy:\", accuracy_score(y_test, svm_preds))\n",
    "print(\"Classification Report:\\n\", classification_report(y_test, svm_preds))\n"
   ]
  },
  {
   "cell_type": "code",
   "execution_count": 45,
   "id": "3f997e55",
   "metadata": {},
   "outputs": [
    {
     "data": {
      "text/plain": [
       "['skill_binarizer.pkl']"
      ]
     },
     "execution_count": 45,
     "metadata": {},
     "output_type": "execute_result"
    }
   ],
   "source": [
    "# Example (assuming you've trained Random Forest model)\n",
    "import joblib\n",
    "\n",
    "# Save\n",
    "joblib.dump(lr, \"job_role_predictor.pkl\")\n",
    "joblib.dump(mlb, \"skill_binarizer.pkl\")\n"
   ]
  },
  {
   "cell_type": "code",
   "execution_count": 46,
   "id": "6b25ce85",
   "metadata": {},
   "outputs": [],
   "source": [
    "import joblib\n",
    "\n",
    "model = joblib.load(\"job_role_predictor.pkl\")\n",
    "mlb = joblib.load(\"skill_binarizer.pkl\")\n"
   ]
  },
  {
   "cell_type": "code",
   "execution_count": 47,
   "id": "c3b17b38",
   "metadata": {},
   "outputs": [
    {
     "name": "stdout",
     "output_type": "stream",
     "text": [
      "Predicted Role: bi developer\n"
     ]
    },
    {
     "name": "stderr",
     "output_type": "stream",
     "text": [
      "c:\\Users\\moham\\anaconda3\\Lib\\site-packages\\sklearn\\preprocessing\\_label.py:909: UserWarning: unknown class(es) ['python', 'sql'] will be ignored\n",
      "  warnings.warn(\n"
     ]
    }
   ],
   "source": [
    "# Example user skills\n",
    "sample_skills = ['Python','SQL']\n",
    "\n",
    "sample_skills = list(map(lambda x: x.lower(), sample_skills))\n",
    "# Transform using same skill binarizer\n",
    "sample_vector = mlb.transform([sample_skills])\n",
    "\n",
    "# Predict role\n",
    "predicted_role = model.predict(sample_vector)\n",
    "print(\"Predicted Role:\", predicted_role[0])\n"
   ]
  },
  {
   "cell_type": "code",
   "execution_count": null,
   "id": "0a710c42",
   "metadata": {},
   "outputs": [],
   "source": []
  }
 ],
 "metadata": {
  "kernelspec": {
   "display_name": "base",
   "language": "python",
   "name": "python3"
  },
  "language_info": {
   "codemirror_mode": {
    "name": "ipython",
    "version": 3
   },
   "file_extension": ".py",
   "mimetype": "text/x-python",
   "name": "python",
   "nbconvert_exporter": "python",
   "pygments_lexer": "ipython3",
   "version": "3.12.7"
  }
 },
 "nbformat": 4,
 "nbformat_minor": 5
}
