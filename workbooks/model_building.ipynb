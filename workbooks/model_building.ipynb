{
 "cells": [
  {
   "cell_type": "code",
   "execution_count": 2,
   "id": "db8d7aa6",
   "metadata": {},
   "outputs": [
    {
     "name": "stdout",
     "output_type": "stream",
     "text": [
      "Model Building\n",
      "Matching the skill set from the resume with the actual needed skill set\n"
     ]
    }
   ],
   "source": [
    "print(\"Model Building\")\n",
    "print(\"Matching the skill set from the resume with the actual needed skill set\")"
   ]
  },
  {
   "cell_type": "code",
   "execution_count": 4,
   "id": "184104d3",
   "metadata": {},
   "outputs": [],
   "source": [
    "# Preprocessing\n",
    "\n",
    "import pandas as pd\n",
    "import ast\n",
    "from sklearn.model_selection import train_test_split\n",
    "from sklearn.preprocessing import MultiLabelBinarizer\n",
    "\n",
    "# Load dataset\n",
    "df = pd.read_csv(\"ultimate_roles_skills_dataset.csv\")  # Replace with your file path\n",
    "df['Skills'] = df['Skills'].apply(ast.literal_eval)\n",
    "\n",
    "# Encode skills\n",
    "mlb = MultiLabelBinarizer()\n",
    "X = mlb.fit_transform(df['Skills'])\n",
    "y = df['Role']\n",
    "\n",
    "# Train/test split\n",
    "X_train, X_test, y_train, y_test = train_test_split(X, y, test_size=0.2, random_state=42)\n"
   ]
  },
  {
   "cell_type": "code",
   "execution_count": 5,
   "id": "12891df9",
   "metadata": {},
   "outputs": [
    {
     "name": "stdout",
     "output_type": "stream",
     "text": [
      "Random Forest Accuracy: 1.0\n",
      "Classification Report:\n",
      "                            precision    recall  f1-score   support\n",
      "\n",
      "              AI Engineer       1.00      1.00      1.00         6\n",
      "            AI Researcher       1.00      1.00      1.00         8\n",
      "             BI Developer       1.00      1.00      1.00        14\n",
      "         Business Analyst       1.00      1.00      1.00        14\n",
      "           Cloud Engineer       1.00      1.00      1.00         9\n",
      "              DL Engineer       1.00      1.00      1.00         6\n",
      "             Data Analyst       1.00      1.00      1.00         9\n",
      "            Data Engineer       1.00      1.00      1.00         7\n",
      "           Data Scientist       1.00      1.00      1.00        10\n",
      "          DevOps Engineer       1.00      1.00      1.00        12\n",
      "         Digital Marketer       1.00      1.00      1.00         7\n",
      "     Full Stack Developer       1.00      1.00      1.00         9\n",
      "         Graphic Designer       1.00      1.00      1.00        13\n",
      "            HR Specialist       1.00      1.00      1.00        12\n",
      "              ML Engineer       1.00      1.00      1.00        11\n",
      "     Mobile App Developer       1.00      1.00      1.00         9\n",
      "       Penetration Tester       1.00      1.00      1.00        18\n",
      "          Product Manager       1.00      1.00      1.00        14\n",
      "            Product Owner       1.00      1.00      1.00        10\n",
      "          Prompt Engineer       1.00      1.00      1.00         5\n",
      "                      SDE       1.00      1.00      1.00         5\n",
      "         Security Analyst       1.00      1.00      1.00        20\n",
      "Site Reliability Engineer       1.00      1.00      1.00        10\n",
      "       Software Developer       1.00      1.00      1.00        12\n",
      "       Talent Acquisition       1.00      1.00      1.00        16\n",
      "              UX Designer       1.00      1.00      1.00        11\n",
      "             Video Editor       1.00      1.00      1.00        23\n",
      "\n",
      "                 accuracy                           1.00       300\n",
      "                macro avg       1.00      1.00      1.00       300\n",
      "             weighted avg       1.00      1.00      1.00       300\n",
      "\n"
     ]
    }
   ],
   "source": [
    "# Random Forest Classifier\n",
    "from sklearn.ensemble import RandomForestClassifier\n",
    "from sklearn.metrics import accuracy_score, classification_report\n",
    "\n",
    "rf = RandomForestClassifier(random_state=42)\n",
    "rf.fit(X_train, y_train)\n",
    "rf_preds = rf.predict(X_test)\n",
    "\n",
    "print(\"Random Forest Accuracy:\", accuracy_score(y_test, rf_preds))\n",
    "print(\"Classification Report:\\n\", classification_report(y_test, rf_preds))\n"
   ]
  },
  {
   "cell_type": "code",
   "execution_count": 6,
   "id": "14cbe942",
   "metadata": {},
   "outputs": [
    {
     "name": "stdout",
     "output_type": "stream",
     "text": [
      "Logistic Regression Accuracy: 1.0\n",
      "Classification Report:\n",
      "                            precision    recall  f1-score   support\n",
      "\n",
      "              AI Engineer       1.00      1.00      1.00         6\n",
      "            AI Researcher       1.00      1.00      1.00         8\n",
      "             BI Developer       1.00      1.00      1.00        14\n",
      "         Business Analyst       1.00      1.00      1.00        14\n",
      "           Cloud Engineer       1.00      1.00      1.00         9\n",
      "              DL Engineer       1.00      1.00      1.00         6\n",
      "             Data Analyst       1.00      1.00      1.00         9\n",
      "            Data Engineer       1.00      1.00      1.00         7\n",
      "           Data Scientist       1.00      1.00      1.00        10\n",
      "          DevOps Engineer       1.00      1.00      1.00        12\n",
      "         Digital Marketer       1.00      1.00      1.00         7\n",
      "     Full Stack Developer       1.00      1.00      1.00         9\n",
      "         Graphic Designer       1.00      1.00      1.00        13\n",
      "            HR Specialist       1.00      1.00      1.00        12\n",
      "              ML Engineer       1.00      1.00      1.00        11\n",
      "     Mobile App Developer       1.00      1.00      1.00         9\n",
      "       Penetration Tester       1.00      1.00      1.00        18\n",
      "          Product Manager       1.00      1.00      1.00        14\n",
      "            Product Owner       1.00      1.00      1.00        10\n",
      "          Prompt Engineer       1.00      1.00      1.00         5\n",
      "                      SDE       1.00      1.00      1.00         5\n",
      "         Security Analyst       1.00      1.00      1.00        20\n",
      "Site Reliability Engineer       1.00      1.00      1.00        10\n",
      "       Software Developer       1.00      1.00      1.00        12\n",
      "       Talent Acquisition       1.00      1.00      1.00        16\n",
      "              UX Designer       1.00      1.00      1.00        11\n",
      "             Video Editor       1.00      1.00      1.00        23\n",
      "\n",
      "                 accuracy                           1.00       300\n",
      "                macro avg       1.00      1.00      1.00       300\n",
      "             weighted avg       1.00      1.00      1.00       300\n",
      "\n"
     ]
    }
   ],
   "source": [
    "# Logistic Regression\n",
    "from sklearn.linear_model import LogisticRegression\n",
    "\n",
    "lr = LogisticRegression(max_iter=1000)\n",
    "lr.fit(X_train, y_train)\n",
    "lr_preds = lr.predict(X_test)\n",
    "\n",
    "print(\"Logistic Regression Accuracy:\", accuracy_score(y_test, lr_preds))\n",
    "print(\"Classification Report:\\n\", classification_report(y_test, lr_preds))\n"
   ]
  },
  {
   "cell_type": "code",
   "execution_count": 7,
   "id": "7d1cf106",
   "metadata": {},
   "outputs": [
    {
     "name": "stdout",
     "output_type": "stream",
     "text": [
      "SVM Accuracy: 1.0\n",
      "Classification Report:\n",
      "                            precision    recall  f1-score   support\n",
      "\n",
      "              AI Engineer       1.00      1.00      1.00         6\n",
      "            AI Researcher       1.00      1.00      1.00         8\n",
      "             BI Developer       1.00      1.00      1.00        14\n",
      "         Business Analyst       1.00      1.00      1.00        14\n",
      "           Cloud Engineer       1.00      1.00      1.00         9\n",
      "              DL Engineer       1.00      1.00      1.00         6\n",
      "             Data Analyst       1.00      1.00      1.00         9\n",
      "            Data Engineer       1.00      1.00      1.00         7\n",
      "           Data Scientist       1.00      1.00      1.00        10\n",
      "          DevOps Engineer       1.00      1.00      1.00        12\n",
      "         Digital Marketer       1.00      1.00      1.00         7\n",
      "     Full Stack Developer       1.00      1.00      1.00         9\n",
      "         Graphic Designer       1.00      1.00      1.00        13\n",
      "            HR Specialist       1.00      1.00      1.00        12\n",
      "              ML Engineer       1.00      1.00      1.00        11\n",
      "     Mobile App Developer       1.00      1.00      1.00         9\n",
      "       Penetration Tester       1.00      1.00      1.00        18\n",
      "          Product Manager       1.00      1.00      1.00        14\n",
      "            Product Owner       1.00      1.00      1.00        10\n",
      "          Prompt Engineer       1.00      1.00      1.00         5\n",
      "                      SDE       1.00      1.00      1.00         5\n",
      "         Security Analyst       1.00      1.00      1.00        20\n",
      "Site Reliability Engineer       1.00      1.00      1.00        10\n",
      "       Software Developer       1.00      1.00      1.00        12\n",
      "       Talent Acquisition       1.00      1.00      1.00        16\n",
      "              UX Designer       1.00      1.00      1.00        11\n",
      "             Video Editor       1.00      1.00      1.00        23\n",
      "\n",
      "                 accuracy                           1.00       300\n",
      "                macro avg       1.00      1.00      1.00       300\n",
      "             weighted avg       1.00      1.00      1.00       300\n",
      "\n"
     ]
    }
   ],
   "source": [
    "# SVM\n",
    "from sklearn.svm import SVC\n",
    "\n",
    "svm = SVC()\n",
    "svm.fit(X_train, y_train)\n",
    "svm_preds = svm.predict(X_test)\n",
    "\n",
    "print(\"SVM Accuracy:\", accuracy_score(y_test, svm_preds))\n",
    "print(\"Classification Report:\\n\", classification_report(y_test, svm_preds))\n"
   ]
  },
  {
   "cell_type": "code",
   "execution_count": 8,
   "id": "e014adb8",
   "metadata": {},
   "outputs": [
    {
     "data": {
      "text/plain": [
       "['skill_binarizer.pkl']"
      ]
     },
     "execution_count": 8,
     "metadata": {},
     "output_type": "execute_result"
    }
   ],
   "source": [
    "# Example (assuming you've trained Random Forest model)\n",
    "import joblib\n",
    "\n",
    "# Save\n",
    "joblib.dump(rf, \"job_role_predictor.pkl\")\n",
    "joblib.dump(mlb, \"skill_binarizer.pkl\")\n"
   ]
  },
  {
   "cell_type": "code",
   "execution_count": 9,
   "id": "c8950ae5",
   "metadata": {},
   "outputs": [],
   "source": [
    "import joblib\n",
    "\n",
    "model = joblib.load(\"job_role_predictor.pkl\")\n",
    "mlb = joblib.load(\"skill_binarizer.pkl\")\n"
   ]
  },
  {
   "cell_type": "code",
   "execution_count": 10,
   "id": "f4d12c02",
   "metadata": {},
   "outputs": [
    {
     "name": "stdout",
     "output_type": "stream",
     "text": [
      "Predicted Role: AI Engineer\n"
     ]
    },
    {
     "name": "stderr",
     "output_type": "stream",
     "text": [
      "c:\\Users\\moham\\anaconda3\\Lib\\site-packages\\sklearn\\preprocessing\\_label.py:909: UserWarning: unknown class(es) ['Data Analytics', 'Natural Language Processing (NLP)', 'data visualization'] will be ignored\n",
      "  warnings.warn(\n"
     ]
    }
   ],
   "source": [
    "# Example user skills\n",
    "sample_skills = ['Artificial Intelligence',\"data visualization\", 'Data Analytics', 'Natural Language Processing (NLP)']\n",
    "\n",
    "# Transform using same skill binarizer\n",
    "sample_vector = mlb.transform([sample_skills])\n",
    "\n",
    "# Predict role\n",
    "predicted_role = model.predict(sample_vector)\n",
    "print(\"Predicted Role:\", predicted_role[0])\n"
   ]
  },
  {
   "cell_type": "code",
   "execution_count": null,
   "id": "e0579553",
   "metadata": {},
   "outputs": [],
   "source": []
  }
 ],
 "metadata": {
  "kernelspec": {
   "display_name": "base",
   "language": "python",
   "name": "python3"
  },
  "language_info": {
   "codemirror_mode": {
    "name": "ipython",
    "version": 3
   },
   "file_extension": ".py",
   "mimetype": "text/x-python",
   "name": "python",
   "nbconvert_exporter": "python",
   "pygments_lexer": "ipython3",
   "version": "3.12.7"
  }
 },
 "nbformat": 4,
 "nbformat_minor": 5
}
