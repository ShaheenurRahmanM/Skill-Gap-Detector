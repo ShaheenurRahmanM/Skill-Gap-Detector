{
 "cells": [
  {
   "cell_type": "code",
   "execution_count": 2,
   "id": "495b7bd6",
   "metadata": {},
   "outputs": [
    {
     "name": "stdout",
     "output_type": "stream",
     "text": [
      "Skill Gap Detector\n"
     ]
    }
   ],
   "source": [
    "print(\"Skill Gap Detector\")"
   ]
  },
  {
   "cell_type": "code",
   "execution_count": 3,
   "id": "8c98ff1a",
   "metadata": {},
   "outputs": [
    {
     "name": "stdout",
     "output_type": "stream",
     "text": [
      "Requirement already satisfied: ydata_profiling in c:\\users\\moham\\anaconda3\\lib\\site-packages (4.16.1)\n",
      "Requirement already satisfied: scipy<1.16,>=1.4.1 in c:\\users\\moham\\anaconda3\\lib\\site-packages (from ydata_profiling) (1.13.1)\n",
      "Requirement already satisfied: pandas!=1.4.0,<3.0,>1.1 in c:\\users\\moham\\anaconda3\\lib\\site-packages (from ydata_profiling) (2.2.2)\n",
      "Requirement already satisfied: matplotlib<=3.10,>=3.5 in c:\\users\\moham\\anaconda3\\lib\\site-packages (from ydata_profiling) (3.9.2)\n",
      "Requirement already satisfied: pydantic>=2 in c:\\users\\moham\\anaconda3\\lib\\site-packages (from ydata_profiling) (2.8.2)\n",
      "Requirement already satisfied: PyYAML<6.1,>=5.0.0 in c:\\users\\moham\\anaconda3\\lib\\site-packages (from ydata_profiling) (6.0.1)\n",
      "Requirement already satisfied: jinja2<3.2,>=2.11.1 in c:\\users\\moham\\anaconda3\\lib\\site-packages (from ydata_profiling) (3.1.4)\n",
      "Requirement already satisfied: visions<0.8.2,>=0.7.5 in c:\\users\\moham\\anaconda3\\lib\\site-packages (from visions[type_image_path]<0.8.2,>=0.7.5->ydata_profiling) (0.8.1)\n",
      "Requirement already satisfied: numpy<2.2,>=1.16.0 in c:\\users\\moham\\anaconda3\\lib\\site-packages (from ydata_profiling) (1.26.4)\n",
      "Requirement already satisfied: htmlmin==0.1.12 in c:\\users\\moham\\anaconda3\\lib\\site-packages (from ydata_profiling) (0.1.12)\n",
      "Requirement already satisfied: phik<0.13,>=0.11.1 in c:\\users\\moham\\anaconda3\\lib\\site-packages (from ydata_profiling) (0.12.4)\n",
      "Requirement already satisfied: requests<3,>=2.24.0 in c:\\users\\moham\\anaconda3\\lib\\site-packages (from ydata_profiling) (2.32.3)\n",
      "Requirement already satisfied: tqdm<5,>=4.48.2 in c:\\users\\moham\\anaconda3\\lib\\site-packages (from ydata_profiling) (4.66.5)\n",
      "Requirement already satisfied: seaborn<0.14,>=0.10.1 in c:\\users\\moham\\anaconda3\\lib\\site-packages (from ydata_profiling) (0.13.2)\n",
      "Requirement already satisfied: multimethod<2,>=1.4 in c:\\users\\moham\\anaconda3\\lib\\site-packages (from ydata_profiling) (1.12)\n",
      "Requirement already satisfied: statsmodels<1,>=0.13.2 in c:\\users\\moham\\anaconda3\\lib\\site-packages (from ydata_profiling) (0.14.2)\n",
      "Requirement already satisfied: typeguard<5,>=3 in c:\\users\\moham\\anaconda3\\lib\\site-packages (from ydata_profiling) (4.4.2)\n",
      "Requirement already satisfied: imagehash==4.3.1 in c:\\users\\moham\\anaconda3\\lib\\site-packages (from ydata_profiling) (4.3.1)\n",
      "Requirement already satisfied: wordcloud>=1.9.3 in c:\\users\\moham\\anaconda3\\lib\\site-packages (from ydata_profiling) (1.9.4)\n",
      "Requirement already satisfied: dacite>=1.8 in c:\\users\\moham\\anaconda3\\lib\\site-packages (from ydata_profiling) (1.9.2)\n",
      "Requirement already satisfied: numba<=0.61,>=0.56.0 in c:\\users\\moham\\anaconda3\\lib\\site-packages (from ydata_profiling) (0.60.0)\n",
      "Requirement already satisfied: PyWavelets in c:\\users\\moham\\anaconda3\\lib\\site-packages (from imagehash==4.3.1->ydata_profiling) (1.7.0)\n",
      "Requirement already satisfied: pillow in c:\\users\\moham\\anaconda3\\lib\\site-packages (from imagehash==4.3.1->ydata_profiling) (10.4.0)\n",
      "Requirement already satisfied: MarkupSafe>=2.0 in c:\\users\\moham\\anaconda3\\lib\\site-packages (from jinja2<3.2,>=2.11.1->ydata_profiling) (2.1.3)\n",
      "Requirement already satisfied: contourpy>=1.0.1 in c:\\users\\moham\\anaconda3\\lib\\site-packages (from matplotlib<=3.10,>=3.5->ydata_profiling) (1.2.0)\n",
      "Requirement already satisfied: cycler>=0.10 in c:\\users\\moham\\anaconda3\\lib\\site-packages (from matplotlib<=3.10,>=3.5->ydata_profiling) (0.11.0)\n",
      "Requirement already satisfied: fonttools>=4.22.0 in c:\\users\\moham\\anaconda3\\lib\\site-packages (from matplotlib<=3.10,>=3.5->ydata_profiling) (4.51.0)\n",
      "Requirement already satisfied: kiwisolver>=1.3.1 in c:\\users\\moham\\anaconda3\\lib\\site-packages (from matplotlib<=3.10,>=3.5->ydata_profiling) (1.4.4)\n",
      "Requirement already satisfied: packaging>=20.0 in c:\\users\\moham\\anaconda3\\lib\\site-packages (from matplotlib<=3.10,>=3.5->ydata_profiling) (24.1)\n",
      "Requirement already satisfied: pyparsing>=2.3.1 in c:\\users\\moham\\anaconda3\\lib\\site-packages (from matplotlib<=3.10,>=3.5->ydata_profiling) (3.1.2)\n",
      "Requirement already satisfied: python-dateutil>=2.7 in c:\\users\\moham\\anaconda3\\lib\\site-packages (from matplotlib<=3.10,>=3.5->ydata_profiling) (2.9.0.post0)\n",
      "Requirement already satisfied: llvmlite<0.44,>=0.43.0dev0 in c:\\users\\moham\\anaconda3\\lib\\site-packages (from numba<=0.61,>=0.56.0->ydata_profiling) (0.43.0)\n",
      "Requirement already satisfied: pytz>=2020.1 in c:\\users\\moham\\anaconda3\\lib\\site-packages (from pandas!=1.4.0,<3.0,>1.1->ydata_profiling) (2024.1)\n",
      "Requirement already satisfied: tzdata>=2022.7 in c:\\users\\moham\\anaconda3\\lib\\site-packages (from pandas!=1.4.0,<3.0,>1.1->ydata_profiling) (2023.3)\n",
      "Requirement already satisfied: joblib>=0.14.1 in c:\\users\\moham\\anaconda3\\lib\\site-packages (from phik<0.13,>=0.11.1->ydata_profiling) (1.4.2)\n",
      "Requirement already satisfied: annotated-types>=0.4.0 in c:\\users\\moham\\anaconda3\\lib\\site-packages (from pydantic>=2->ydata_profiling) (0.6.0)\n",
      "Requirement already satisfied: pydantic-core==2.20.1 in c:\\users\\moham\\anaconda3\\lib\\site-packages (from pydantic>=2->ydata_profiling) (2.20.1)\n",
      "Requirement already satisfied: typing-extensions>=4.6.1 in c:\\users\\moham\\anaconda3\\lib\\site-packages (from pydantic>=2->ydata_profiling) (4.11.0)\n",
      "Requirement already satisfied: charset-normalizer<4,>=2 in c:\\users\\moham\\anaconda3\\lib\\site-packages (from requests<3,>=2.24.0->ydata_profiling) (3.3.2)\n",
      "Requirement already satisfied: idna<4,>=2.5 in c:\\users\\moham\\anaconda3\\lib\\site-packages (from requests<3,>=2.24.0->ydata_profiling) (3.7)\n",
      "Requirement already satisfied: urllib3<3,>=1.21.1 in c:\\users\\moham\\anaconda3\\lib\\site-packages (from requests<3,>=2.24.0->ydata_profiling) (2.2.3)\n",
      "Requirement already satisfied: certifi>=2017.4.17 in c:\\users\\moham\\anaconda3\\lib\\site-packages (from requests<3,>=2.24.0->ydata_profiling) (2025.4.26)\n",
      "Requirement already satisfied: patsy>=0.5.6 in c:\\users\\moham\\anaconda3\\lib\\site-packages (from statsmodels<1,>=0.13.2->ydata_profiling) (0.5.6)\n",
      "Requirement already satisfied: colorama in c:\\users\\moham\\anaconda3\\lib\\site-packages (from tqdm<5,>=4.48.2->ydata_profiling) (0.4.6)\n",
      "Requirement already satisfied: attrs>=19.3.0 in c:\\users\\moham\\anaconda3\\lib\\site-packages (from visions<0.8.2,>=0.7.5->visions[type_image_path]<0.8.2,>=0.7.5->ydata_profiling) (23.1.0)\n",
      "Requirement already satisfied: networkx>=2.4 in c:\\users\\moham\\anaconda3\\lib\\site-packages (from visions<0.8.2,>=0.7.5->visions[type_image_path]<0.8.2,>=0.7.5->ydata_profiling) (3.3)\n",
      "Requirement already satisfied: puremagic in c:\\users\\moham\\anaconda3\\lib\\site-packages (from visions<0.8.2,>=0.7.5->visions[type_image_path]<0.8.2,>=0.7.5->ydata_profiling) (1.29)\n",
      "Requirement already satisfied: six in c:\\users\\moham\\anaconda3\\lib\\site-packages (from patsy>=0.5.6->statsmodels<1,>=0.13.2->ydata_profiling) (1.16.0)\n"
     ]
    }
   ],
   "source": [
    "!pip install ydata_profiling"
   ]
  },
  {
   "cell_type": "code",
   "execution_count": 4,
   "id": "7e0442a4",
   "metadata": {},
   "outputs": [],
   "source": [
    "from ydata_profiling import ProfileReport\n",
    "import pandas as pd\n",
    "import numpy as np \n",
    "\n",
    "df = pd.read_csv('job_postings.csv')"
   ]
  },
  {
   "cell_type": "code",
   "execution_count": 5,
   "id": "b9fb39c8",
   "metadata": {},
   "outputs": [
    {
     "data": {
      "application/vnd.jupyter.widget-view+json": {
       "model_id": "777c8aaae8c54ad8a6f8369ddd5c3fe6",
       "version_major": 2,
       "version_minor": 0
      },
      "text/plain": [
       "Summarize dataset:   0%|          | 0/5 [00:00<?, ?it/s]"
      ]
     },
     "metadata": {},
     "output_type": "display_data"
    },
    {
     "name": "stderr",
     "output_type": "stream",
     "text": [
      "100%|██████████| 6/6 [00:00<00:00, 19.92it/s]\n"
     ]
    },
    {
     "data": {
      "application/vnd.jupyter.widget-view+json": {
       "model_id": "99cf1f97dc6b4c8c8a74ea42290b459f",
       "version_major": 2,
       "version_minor": 0
      },
      "text/plain": [
       "Generate report structure:   0%|          | 0/1 [00:00<?, ?it/s]"
      ]
     },
     "metadata": {},
     "output_type": "display_data"
    },
    {
     "data": {
      "application/vnd.jupyter.widget-view+json": {
       "model_id": "df8bc2029a6d4f45a3413e6111225599",
       "version_major": 2,
       "version_minor": 0
      },
      "text/plain": [
       "Render HTML:   0%|          | 0/1 [00:00<?, ?it/s]"
      ]
     },
     "metadata": {},
     "output_type": "display_data"
    },
    {
     "data": {
      "application/vnd.jupyter.widget-view+json": {
       "model_id": "b111f570c3ef480cbbd3aa54ae79e7b9",
       "version_major": 2,
       "version_minor": 0
      },
      "text/plain": [
       "Export report to file:   0%|          | 0/1 [00:00<?, ?it/s]"
      ]
     },
     "metadata": {},
     "output_type": "display_data"
    }
   ],
   "source": [
    "Profile = ProfileReport(df,title='Job Postings Profiling Report',explorative=True)\n",
    "Profile.to_file(\"job_postings_report.html\")"
   ]
  },
  {
   "cell_type": "code",
   "execution_count": null,
   "id": "102875e0",
   "metadata": {},
   "outputs": [
    {
     "name": "stdout",
     "output_type": "stream",
     "text": [
      "0\n"
     ]
    }
   ],
   "source": [
    "# To remove the duplicates\n",
    "print(\"Number of Duplicates:\",df.duplicated().sum())\n",
    "df.drop_duplicates(inplace=True)"
   ]
  },
  {
   "cell_type": "code",
   "execution_count": 10,
   "id": "afd7a5b4",
   "metadata": {},
   "outputs": [
    {
     "name": "stdout",
     "output_type": "stream",
     "text": [
      "Shape of the dataset: (18936, 6)\n",
      "Number of Duplicates: 0\n"
     ]
    }
   ],
   "source": [
    "print(\"Shape of the dataset:\",df.shape)\n",
    "print(\"Number of Duplicates:\",df.duplicated().sum())"
   ]
  },
  {
   "cell_type": "code",
   "execution_count": 15,
   "id": "24919df6",
   "metadata": {},
   "outputs": [
    {
     "name": "stdout",
     "output_type": "stream",
     "text": [
      "            Job Title                    Domain  \\\n",
      "0        data analyst  data science & analytics   \n",
      "1  penetration tester             cybersecurity   \n",
      "2          hr analyst              hr analytics   \n",
      "3          hr analyst              hr analytics   \n",
      "4       web3 engineer         blockchain & web3   \n",
      "\n",
      "                                     Required Skills Qualification  \\\n",
      "0  ['dax', 'dashboards', 'excel', 'pivot tables',...    bachelor's   \n",
      "1  ['burp suite', 'ethical hacking', 'exploit dev...           phd   \n",
      "2  ['dashboarding', 'data cleaning', 'data visual...           mba   \n",
      "3  ['dashboarding', 'data cleaning', 'data visual...           phd   \n",
      "4  ['chainlink', 'hardhat', 'react', 'smart contr...      master's   \n",
      "\n",
      "  Demand Level         Salary Range  \n",
      "0       medium  $120,000 - $150,000  \n",
      "1          low    $50,000 - $70,000  \n",
      "2         high    $50,000 - $70,000  \n",
      "3         high   $90,000 - $120,000  \n",
      "4          low   $90,000 - $120,000  \n"
     ]
    },
    {
     "name": "stderr",
     "output_type": "stream",
     "text": [
      "C:\\Users\\moham\\AppData\\Local\\Temp\\ipykernel_11144\\2999400595.py:2: FutureWarning: DataFrame.applymap has been deprecated. Use DataFrame.map instead.\n",
      "  df = df.applymap(lambda x: x.lower().strip() if isinstance(x, str) else x)\n"
     ]
    }
   ],
   "source": [
    "# Converting everything to lower case\n",
    "df = df.applymap(lambda x: x.lower().strip() if isinstance(x, str) else x)\n",
    "\n",
    "print(df.head())"
   ]
  },
  {
   "cell_type": "code",
   "execution_count": 16,
   "id": "752c68d3",
   "metadata": {},
   "outputs": [
    {
     "data": {
      "text/html": [
       "<div>\n",
       "<style scoped>\n",
       "    .dataframe tbody tr th:only-of-type {\n",
       "        vertical-align: middle;\n",
       "    }\n",
       "\n",
       "    .dataframe tbody tr th {\n",
       "        vertical-align: top;\n",
       "    }\n",
       "\n",
       "    .dataframe thead th {\n",
       "        text-align: right;\n",
       "    }\n",
       "</style>\n",
       "<table border=\"1\" class=\"dataframe\">\n",
       "  <thead>\n",
       "    <tr style=\"text-align: right;\">\n",
       "      <th></th>\n",
       "      <th>Job Title</th>\n",
       "      <th>Domain</th>\n",
       "      <th>Required Skills</th>\n",
       "      <th>Qualification</th>\n",
       "      <th>Demand Level</th>\n",
       "      <th>Salary Range</th>\n",
       "    </tr>\n",
       "  </thead>\n",
       "  <tbody>\n",
       "    <tr>\n",
       "      <th>0</th>\n",
       "      <td>data analyst</td>\n",
       "      <td>data science &amp; analytics</td>\n",
       "      <td>['dax', 'dashboards', 'excel', 'pivot tables',...</td>\n",
       "      <td>bachelor</td>\n",
       "      <td>medium</td>\n",
       "      <td>$120,000 - $150,000</td>\n",
       "    </tr>\n",
       "    <tr>\n",
       "      <th>1</th>\n",
       "      <td>penetration tester</td>\n",
       "      <td>cybersecurity</td>\n",
       "      <td>['burp suite', 'ethical hacking', 'exploit dev...</td>\n",
       "      <td>phd</td>\n",
       "      <td>low</td>\n",
       "      <td>$50,000 - $70,000</td>\n",
       "    </tr>\n",
       "    <tr>\n",
       "      <th>2</th>\n",
       "      <td>hr analyst</td>\n",
       "      <td>hr analytics</td>\n",
       "      <td>['dashboarding', 'data cleaning', 'data visual...</td>\n",
       "      <td>mba</td>\n",
       "      <td>high</td>\n",
       "      <td>$50,000 - $70,000</td>\n",
       "    </tr>\n",
       "    <tr>\n",
       "      <th>3</th>\n",
       "      <td>hr analyst</td>\n",
       "      <td>hr analytics</td>\n",
       "      <td>['dashboarding', 'data cleaning', 'data visual...</td>\n",
       "      <td>phd</td>\n",
       "      <td>high</td>\n",
       "      <td>$90,000 - $120,000</td>\n",
       "    </tr>\n",
       "    <tr>\n",
       "      <th>4</th>\n",
       "      <td>web3 engineer</td>\n",
       "      <td>blockchain &amp; web3</td>\n",
       "      <td>['chainlink', 'hardhat', 'react', 'smart contr...</td>\n",
       "      <td>master</td>\n",
       "      <td>low</td>\n",
       "      <td>$90,000 - $120,000</td>\n",
       "    </tr>\n",
       "  </tbody>\n",
       "</table>\n",
       "</div>"
      ],
      "text/plain": [
       "            Job Title                    Domain  \\\n",
       "0        data analyst  data science & analytics   \n",
       "1  penetration tester             cybersecurity   \n",
       "2          hr analyst              hr analytics   \n",
       "3          hr analyst              hr analytics   \n",
       "4       web3 engineer         blockchain & web3   \n",
       "\n",
       "                                     Required Skills Qualification  \\\n",
       "0  ['dax', 'dashboards', 'excel', 'pivot tables',...      bachelor   \n",
       "1  ['burp suite', 'ethical hacking', 'exploit dev...           phd   \n",
       "2  ['dashboarding', 'data cleaning', 'data visual...           mba   \n",
       "3  ['dashboarding', 'data cleaning', 'data visual...           phd   \n",
       "4  ['chainlink', 'hardhat', 'react', 'smart contr...        master   \n",
       "\n",
       "  Demand Level         Salary Range  \n",
       "0       medium  $120,000 - $150,000  \n",
       "1          low    $50,000 - $70,000  \n",
       "2         high    $50,000 - $70,000  \n",
       "3         high   $90,000 - $120,000  \n",
       "4          low   $90,000 - $120,000  "
      ]
     },
     "execution_count": 16,
     "metadata": {},
     "output_type": "execute_result"
    }
   ],
   "source": [
    "def normalize_qualification(qual):\n",
    "    qual = str(qual).lower()\n",
    "    if \"mba\" in qual:\n",
    "        return \"mba\"\n",
    "    elif \"bachelor\" in qual or \"b.tech\" in qual or \"bsc\" in qual or \"bca\" in qual:\n",
    "        return \"bachelor\"\n",
    "    elif \"master\" in qual or \"m.tech\" in qual or \"msc\" in qual:\n",
    "        return \"master\"\n",
    "    elif \"phd\" in qual or \"doctorate\" in qual:\n",
    "        return \"phd\"\n",
    "    else:\n",
    "        return \"other\"\n",
    "\n",
    "df[\"Qualification\"] = df[\"Qualification\"].apply(normalize_qualification)\n",
    "\n",
    "df.head()"
   ]
  },
  {
   "cell_type": "code",
   "execution_count": 19,
   "id": "4045d205",
   "metadata": {},
   "outputs": [
    {
     "data": {
      "text/html": [
       "<div>\n",
       "<style scoped>\n",
       "    .dataframe tbody tr th:only-of-type {\n",
       "        vertical-align: middle;\n",
       "    }\n",
       "\n",
       "    .dataframe tbody tr th {\n",
       "        vertical-align: top;\n",
       "    }\n",
       "\n",
       "    .dataframe thead th {\n",
       "        text-align: right;\n",
       "    }\n",
       "</style>\n",
       "<table border=\"1\" class=\"dataframe\">\n",
       "  <thead>\n",
       "    <tr style=\"text-align: right;\">\n",
       "      <th></th>\n",
       "      <th>Job Title</th>\n",
       "      <th>Domain</th>\n",
       "      <th>Required Skills</th>\n",
       "      <th>Qualification</th>\n",
       "      <th>Demand Level</th>\n",
       "      <th>Salary Range</th>\n",
       "      <th>Min Salary</th>\n",
       "      <th>Max Salary</th>\n",
       "      <th>Avg Salary</th>\n",
       "    </tr>\n",
       "  </thead>\n",
       "  <tbody>\n",
       "    <tr>\n",
       "      <th>0</th>\n",
       "      <td>data analyst</td>\n",
       "      <td>data science &amp; analytics</td>\n",
       "      <td>['dax', 'dashboards', 'excel', 'pivot tables',...</td>\n",
       "      <td>bachelor</td>\n",
       "      <td>medium</td>\n",
       "      <td>$120,000 - $150,000</td>\n",
       "      <td>120000</td>\n",
       "      <td>150000</td>\n",
       "      <td>135000.0</td>\n",
       "    </tr>\n",
       "    <tr>\n",
       "      <th>1</th>\n",
       "      <td>penetration tester</td>\n",
       "      <td>cybersecurity</td>\n",
       "      <td>['burp suite', 'ethical hacking', 'exploit dev...</td>\n",
       "      <td>phd</td>\n",
       "      <td>low</td>\n",
       "      <td>$50,000 - $70,000</td>\n",
       "      <td>50000</td>\n",
       "      <td>70000</td>\n",
       "      <td>60000.0</td>\n",
       "    </tr>\n",
       "    <tr>\n",
       "      <th>2</th>\n",
       "      <td>hr analyst</td>\n",
       "      <td>hr analytics</td>\n",
       "      <td>['dashboarding', 'data cleaning', 'data visual...</td>\n",
       "      <td>mba</td>\n",
       "      <td>high</td>\n",
       "      <td>$50,000 - $70,000</td>\n",
       "      <td>50000</td>\n",
       "      <td>70000</td>\n",
       "      <td>60000.0</td>\n",
       "    </tr>\n",
       "    <tr>\n",
       "      <th>3</th>\n",
       "      <td>hr analyst</td>\n",
       "      <td>hr analytics</td>\n",
       "      <td>['dashboarding', 'data cleaning', 'data visual...</td>\n",
       "      <td>phd</td>\n",
       "      <td>high</td>\n",
       "      <td>$90,000 - $120,000</td>\n",
       "      <td>90000</td>\n",
       "      <td>120000</td>\n",
       "      <td>105000.0</td>\n",
       "    </tr>\n",
       "    <tr>\n",
       "      <th>4</th>\n",
       "      <td>web3 engineer</td>\n",
       "      <td>blockchain &amp; web3</td>\n",
       "      <td>['chainlink', 'hardhat', 'react', 'smart contr...</td>\n",
       "      <td>master</td>\n",
       "      <td>low</td>\n",
       "      <td>$90,000 - $120,000</td>\n",
       "      <td>90000</td>\n",
       "      <td>120000</td>\n",
       "      <td>105000.0</td>\n",
       "    </tr>\n",
       "  </tbody>\n",
       "</table>\n",
       "</div>"
      ],
      "text/plain": [
       "            Job Title                    Domain  \\\n",
       "0        data analyst  data science & analytics   \n",
       "1  penetration tester             cybersecurity   \n",
       "2          hr analyst              hr analytics   \n",
       "3          hr analyst              hr analytics   \n",
       "4       web3 engineer         blockchain & web3   \n",
       "\n",
       "                                     Required Skills Qualification  \\\n",
       "0  ['dax', 'dashboards', 'excel', 'pivot tables',...      bachelor   \n",
       "1  ['burp suite', 'ethical hacking', 'exploit dev...           phd   \n",
       "2  ['dashboarding', 'data cleaning', 'data visual...           mba   \n",
       "3  ['dashboarding', 'data cleaning', 'data visual...           phd   \n",
       "4  ['chainlink', 'hardhat', 'react', 'smart contr...        master   \n",
       "\n",
       "  Demand Level         Salary Range  Min Salary  Max Salary  Avg Salary  \n",
       "0       medium  $120,000 - $150,000      120000      150000    135000.0  \n",
       "1          low    $50,000 - $70,000       50000       70000     60000.0  \n",
       "2         high    $50,000 - $70,000       50000       70000     60000.0  \n",
       "3         high   $90,000 - $120,000       90000      120000    105000.0  \n",
       "4          low   $90,000 - $120,000       90000      120000    105000.0  "
      ]
     },
     "execution_count": 19,
     "metadata": {},
     "output_type": "execute_result"
    }
   ],
   "source": [
    "# Normalize salary\n",
    "\n",
    "def parse_salary_range(salary_range):\n",
    "    try:\n",
    "        # Remove dollar signs and commas\n",
    "        salary_range = salary_range.replace('$', '').replace(',', '')\n",
    "        min_sal, max_sal = salary_range.split('-')\n",
    "        return int(min_sal.strip()), int(max_sal.strip())\n",
    "    except:\n",
    "        return None, None\n",
    "\n",
    "# Apply the parsing\n",
    "df[['Min Salary', 'Max Salary']] = df['Salary Range'].apply(\n",
    "    lambda x: pd.Series(parse_salary_range(x))\n",
    ")\n",
    "\n",
    "# Optional: Add average salary\n",
    "df['Avg Salary'] = df[['Min Salary', 'Max Salary']].mean(axis=1)\n",
    "df.head()\n"
   ]
  },
  {
   "cell_type": "code",
   "execution_count": 20,
   "id": "22e5e9ca",
   "metadata": {},
   "outputs": [
    {
     "data": {
      "application/vnd.jupyter.widget-view+json": {
       "model_id": "7a6309a08f204666936b75ec11f371a8",
       "version_major": 2,
       "version_minor": 0
      },
      "text/plain": [
       "Summarize dataset:   0%|          | 0/5 [00:00<?, ?it/s]"
      ]
     },
     "metadata": {},
     "output_type": "display_data"
    },
    {
     "name": "stderr",
     "output_type": "stream",
     "text": [
      "100%|██████████| 9/9 [00:00<00:00, 25.79it/s]\n"
     ]
    },
    {
     "data": {
      "application/vnd.jupyter.widget-view+json": {
       "model_id": "5fbe70ac5b3147c78513324eb6de5578",
       "version_major": 2,
       "version_minor": 0
      },
      "text/plain": [
       "Generate report structure:   0%|          | 0/1 [00:00<?, ?it/s]"
      ]
     },
     "metadata": {},
     "output_type": "display_data"
    },
    {
     "data": {
      "application/vnd.jupyter.widget-view+json": {
       "model_id": "201e652d7c854e9ea8bead3e55432c8f",
       "version_major": 2,
       "version_minor": 0
      },
      "text/plain": [
       "Render HTML:   0%|          | 0/1 [00:00<?, ?it/s]"
      ]
     },
     "metadata": {},
     "output_type": "display_data"
    },
    {
     "data": {
      "application/vnd.jupyter.widget-view+json": {
       "model_id": "6a37766a9852444faf9e09f18ddfb5f8",
       "version_major": 2,
       "version_minor": 0
      },
      "text/plain": [
       "Export report to file:   0%|          | 0/1 [00:00<?, ?it/s]"
      ]
     },
     "metadata": {},
     "output_type": "display_data"
    }
   ],
   "source": [
    "profile = ProfileReport(df, title=\"Final Job Postings Profiling Report\", explorative=True)\n",
    "profile.to_file(\"final_job_postings_report.html\")"
   ]
  },
  {
   "cell_type": "code",
   "execution_count": null,
   "id": "f5ece6af",
   "metadata": {},
   "outputs": [],
   "source": []
  }
 ],
 "metadata": {
  "kernelspec": {
   "display_name": "base",
   "language": "python",
   "name": "python3"
  },
  "language_info": {
   "codemirror_mode": {
    "name": "ipython",
    "version": 3
   },
   "file_extension": ".py",
   "mimetype": "text/x-python",
   "name": "python",
   "nbconvert_exporter": "python",
   "pygments_lexer": "ipython3",
   "version": "3.12.7"
  }
 },
 "nbformat": 4,
 "nbformat_minor": 5
}
